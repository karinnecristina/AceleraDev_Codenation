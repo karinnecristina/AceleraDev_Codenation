{
 "cells": [
  {
   "cell_type": "markdown",
   "metadata": {},
   "source": [
    "# Desafio 6\n",
    "\n",
    "Neste desafio, vamos praticar _feature engineering_, um dos processos mais importantes e trabalhosos de ML. Utilizaremos o _data set_ [Countries of the world](https://www.kaggle.com/fernandol/countries-of-the-world), que contém dados sobre os 227 países do mundo com informações sobre tamanho da população, área, imigração e setores de produção.\n",
    "\n",
    "> Obs.: Por favor, não modifique o nome das funções de resposta."
   ]
  },
  {
   "cell_type": "markdown",
   "metadata": {},
   "source": [
    "## _Setup_ geral"
   ]
  },
  {
   "cell_type": "code",
   "execution_count": 1,
   "metadata": {},
   "outputs": [],
   "source": [
    "import pandas as pd\n",
    "import numpy as np\n",
    "import seaborn as sns\n",
    "import sklearn as sk\n",
    "from sklearn.preprocessing import KBinsDiscretizer,StandardScaler\n",
    "from sklearn.pipeline import Pipeline\n",
    "from sklearn.impute import SimpleImputer\n",
    "from sklearn.datasets import load_digits, fetch_20newsgroups\n",
    "from sklearn.feature_extraction.text import CountVectorizer, TfidfTransformer, TfidfVectorizer"
   ]
  },
  {
   "cell_type": "code",
   "execution_count": 2,
   "metadata": {},
   "outputs": [],
   "source": [
    "# Algumas configurações para o matplotlib.\n",
    "%matplotlib inline\n",
    "\n",
    "from IPython.core.pylabtools import figsize\n",
    "\n",
    "\n",
    "figsize(12, 8)\n",
    "\n",
    "sns.set()"
   ]
  },
  {
   "cell_type": "code",
   "execution_count": 3,
   "metadata": {
    "scrolled": false
   },
   "outputs": [],
   "source": [
    "countries = pd.read_csv(\"countries.csv\")"
   ]
  },
  {
   "cell_type": "code",
   "execution_count": 4,
   "metadata": {},
   "outputs": [
    {
     "output_type": "execute_result",
     "data": {
      "text/plain": "           Country                               Region  Population     Area  \\\n0     Afghanistan         ASIA (EX. NEAR EAST)             31056997   647500   \n1         Albania   EASTERN EUROPE                          3581655    28748   \n2         Algeria   NORTHERN AFRICA                        32930091  2381740   \n3  American Samoa   OCEANIA                                   57794      199   \n4         Andorra   WESTERN EUROPE                            71201      468   \n\n  Pop_density Coastline_ratio Net_migration Infant_mortality      GDP  \\\n0        48,0            0,00         23,06           163,07    700.0   \n1       124,6            1,26         -4,93            21,52   4500.0   \n2        13,8            0,04         -0,39               31   6000.0   \n3       290,4           58,29        -20,71             9,27   8000.0   \n4       152,1            0,00           6,6             4,05  19000.0   \n\n  Literacy Phones_per_1000 Arable Crops  Other Climate Birthrate Deathrate  \\\n0     36,0             3,2  12,13  0,22  87,65       1      46,6     20,34   \n1     86,5            71,2  21,09  4,42  74,49       3     15,11      5,22   \n2     70,0            78,1   3,22  0,25  96,53       1     17,14      4,61   \n3     97,0           259,5     10    15     75       2     22,46      3,27   \n4    100,0           497,2   2,22     0  97,78       3      8,71      6,25   \n\n  Agriculture Industry Service  \n0        0,38     0,24    0,38  \n1       0,232    0,188   0,579  \n2       0,101      0,6   0,298  \n3         NaN      NaN     NaN  \n4         NaN      NaN     NaN  ",
      "text/html": "<div>\n<style scoped>\n    .dataframe tbody tr th:only-of-type {\n        vertical-align: middle;\n    }\n\n    .dataframe tbody tr th {\n        vertical-align: top;\n    }\n\n    .dataframe thead th {\n        text-align: right;\n    }\n</style>\n<table border=\"1\" class=\"dataframe\">\n  <thead>\n    <tr style=\"text-align: right;\">\n      <th></th>\n      <th>Country</th>\n      <th>Region</th>\n      <th>Population</th>\n      <th>Area</th>\n      <th>Pop_density</th>\n      <th>Coastline_ratio</th>\n      <th>Net_migration</th>\n      <th>Infant_mortality</th>\n      <th>GDP</th>\n      <th>Literacy</th>\n      <th>Phones_per_1000</th>\n      <th>Arable</th>\n      <th>Crops</th>\n      <th>Other</th>\n      <th>Climate</th>\n      <th>Birthrate</th>\n      <th>Deathrate</th>\n      <th>Agriculture</th>\n      <th>Industry</th>\n      <th>Service</th>\n    </tr>\n  </thead>\n  <tbody>\n    <tr>\n      <th>0</th>\n      <td>Afghanistan</td>\n      <td>ASIA (EX. NEAR EAST)</td>\n      <td>31056997</td>\n      <td>647500</td>\n      <td>48,0</td>\n      <td>0,00</td>\n      <td>23,06</td>\n      <td>163,07</td>\n      <td>700.0</td>\n      <td>36,0</td>\n      <td>3,2</td>\n      <td>12,13</td>\n      <td>0,22</td>\n      <td>87,65</td>\n      <td>1</td>\n      <td>46,6</td>\n      <td>20,34</td>\n      <td>0,38</td>\n      <td>0,24</td>\n      <td>0,38</td>\n    </tr>\n    <tr>\n      <th>1</th>\n      <td>Albania</td>\n      <td>EASTERN EUROPE</td>\n      <td>3581655</td>\n      <td>28748</td>\n      <td>124,6</td>\n      <td>1,26</td>\n      <td>-4,93</td>\n      <td>21,52</td>\n      <td>4500.0</td>\n      <td>86,5</td>\n      <td>71,2</td>\n      <td>21,09</td>\n      <td>4,42</td>\n      <td>74,49</td>\n      <td>3</td>\n      <td>15,11</td>\n      <td>5,22</td>\n      <td>0,232</td>\n      <td>0,188</td>\n      <td>0,579</td>\n    </tr>\n    <tr>\n      <th>2</th>\n      <td>Algeria</td>\n      <td>NORTHERN AFRICA</td>\n      <td>32930091</td>\n      <td>2381740</td>\n      <td>13,8</td>\n      <td>0,04</td>\n      <td>-0,39</td>\n      <td>31</td>\n      <td>6000.0</td>\n      <td>70,0</td>\n      <td>78,1</td>\n      <td>3,22</td>\n      <td>0,25</td>\n      <td>96,53</td>\n      <td>1</td>\n      <td>17,14</td>\n      <td>4,61</td>\n      <td>0,101</td>\n      <td>0,6</td>\n      <td>0,298</td>\n    </tr>\n    <tr>\n      <th>3</th>\n      <td>American Samoa</td>\n      <td>OCEANIA</td>\n      <td>57794</td>\n      <td>199</td>\n      <td>290,4</td>\n      <td>58,29</td>\n      <td>-20,71</td>\n      <td>9,27</td>\n      <td>8000.0</td>\n      <td>97,0</td>\n      <td>259,5</td>\n      <td>10</td>\n      <td>15</td>\n      <td>75</td>\n      <td>2</td>\n      <td>22,46</td>\n      <td>3,27</td>\n      <td>NaN</td>\n      <td>NaN</td>\n      <td>NaN</td>\n    </tr>\n    <tr>\n      <th>4</th>\n      <td>Andorra</td>\n      <td>WESTERN EUROPE</td>\n      <td>71201</td>\n      <td>468</td>\n      <td>152,1</td>\n      <td>0,00</td>\n      <td>6,6</td>\n      <td>4,05</td>\n      <td>19000.0</td>\n      <td>100,0</td>\n      <td>497,2</td>\n      <td>2,22</td>\n      <td>0</td>\n      <td>97,78</td>\n      <td>3</td>\n      <td>8,71</td>\n      <td>6,25</td>\n      <td>NaN</td>\n      <td>NaN</td>\n      <td>NaN</td>\n    </tr>\n  </tbody>\n</table>\n</div>"
     },
     "metadata": {},
     "execution_count": 4
    }
   ],
   "source": [
    "new_column_names = [\n",
    "    \"Country\", \"Region\", \"Population\", \"Area\", \"Pop_density\", \"Coastline_ratio\",\n",
    "    \"Net_migration\", \"Infant_mortality\", \"GDP\", \"Literacy\", \"Phones_per_1000\",\n",
    "    \"Arable\", \"Crops\", \"Other\", \"Climate\", \"Birthrate\", \"Deathrate\", \"Agriculture\",\n",
    "    \"Industry\", \"Service\"\n",
    "]\n",
    "\n",
    "countries.columns = new_column_names\n",
    "\n",
    "countries.head(5)"
   ]
  },
  {
   "cell_type": "markdown",
   "metadata": {},
   "source": [
    "## Observações\n",
    "\n",
    "Esse _data set_ ainda precisa de alguns ajustes iniciais. Primeiro, note que as variáveis numéricas estão usando vírgula como separador decimal e estão codificadas como strings. Corrija isso antes de continuar: transforme essas variáveis em numéricas adequadamente.\n",
    "\n",
    "Além disso, as variáveis `Country` e `Region` possuem espaços a mais no começo e no final da string. Você pode utilizar o método `str.strip()` para remover esses espaços."
   ]
  },
  {
   "cell_type": "markdown",
   "metadata": {},
   "source": [
    "## Inicia sua análise a partir daqui"
   ]
  },
  {
   "cell_type": "code",
   "execution_count": 5,
   "metadata": {},
   "outputs": [],
   "source": [
    "# Sua análise começa aqui."
   ]
  },
  {
   "cell_type": "code",
   "execution_count": 6,
   "metadata": {},
   "outputs": [
    {
     "output_type": "execute_result",
     "data": {
      "text/plain": "                     type  amount  percentage  unique values\nCountry            object       0    0.000000            227\nRegion             object       0    0.000000             11\nPopulation          int64       0    0.000000            227\nArea                int64       0    0.000000            226\nPop_density        object       0    0.000000            219\nCoastline_ratio    object       0    0.000000            151\nNet_migration      object       3    1.321586            157\nInfant_mortality   object       3    1.321586            220\nGDP               float64       1    0.440529            130\nLiteracy           object      18    7.929515            140\nPhones_per_1000    object       4    1.762115            214\nArable             object       2    0.881057            203\nCrops              object       2    0.881057            162\nOther              object       2    0.881057            209\nClimate            object      22    9.691630              6\nBirthrate          object       3    1.321586            220\nDeathrate          object       4    1.762115            201\nAgriculture        object      15    6.607930            150\nIndustry           object      16    7.048458            155\nService            object      15    6.607930            167",
      "text/html": "<div>\n<style scoped>\n    .dataframe tbody tr th:only-of-type {\n        vertical-align: middle;\n    }\n\n    .dataframe tbody tr th {\n        vertical-align: top;\n    }\n\n    .dataframe thead th {\n        text-align: right;\n    }\n</style>\n<table border=\"1\" class=\"dataframe\">\n  <thead>\n    <tr style=\"text-align: right;\">\n      <th></th>\n      <th>type</th>\n      <th>amount</th>\n      <th>percentage</th>\n      <th>unique values</th>\n    </tr>\n  </thead>\n  <tbody>\n    <tr>\n      <th>Country</th>\n      <td>object</td>\n      <td>0</td>\n      <td>0.000000</td>\n      <td>227</td>\n    </tr>\n    <tr>\n      <th>Region</th>\n      <td>object</td>\n      <td>0</td>\n      <td>0.000000</td>\n      <td>11</td>\n    </tr>\n    <tr>\n      <th>Population</th>\n      <td>int64</td>\n      <td>0</td>\n      <td>0.000000</td>\n      <td>227</td>\n    </tr>\n    <tr>\n      <th>Area</th>\n      <td>int64</td>\n      <td>0</td>\n      <td>0.000000</td>\n      <td>226</td>\n    </tr>\n    <tr>\n      <th>Pop_density</th>\n      <td>object</td>\n      <td>0</td>\n      <td>0.000000</td>\n      <td>219</td>\n    </tr>\n    <tr>\n      <th>Coastline_ratio</th>\n      <td>object</td>\n      <td>0</td>\n      <td>0.000000</td>\n      <td>151</td>\n    </tr>\n    <tr>\n      <th>Net_migration</th>\n      <td>object</td>\n      <td>3</td>\n      <td>1.321586</td>\n      <td>157</td>\n    </tr>\n    <tr>\n      <th>Infant_mortality</th>\n      <td>object</td>\n      <td>3</td>\n      <td>1.321586</td>\n      <td>220</td>\n    </tr>\n    <tr>\n      <th>GDP</th>\n      <td>float64</td>\n      <td>1</td>\n      <td>0.440529</td>\n      <td>130</td>\n    </tr>\n    <tr>\n      <th>Literacy</th>\n      <td>object</td>\n      <td>18</td>\n      <td>7.929515</td>\n      <td>140</td>\n    </tr>\n    <tr>\n      <th>Phones_per_1000</th>\n      <td>object</td>\n      <td>4</td>\n      <td>1.762115</td>\n      <td>214</td>\n    </tr>\n    <tr>\n      <th>Arable</th>\n      <td>object</td>\n      <td>2</td>\n      <td>0.881057</td>\n      <td>203</td>\n    </tr>\n    <tr>\n      <th>Crops</th>\n      <td>object</td>\n      <td>2</td>\n      <td>0.881057</td>\n      <td>162</td>\n    </tr>\n    <tr>\n      <th>Other</th>\n      <td>object</td>\n      <td>2</td>\n      <td>0.881057</td>\n      <td>209</td>\n    </tr>\n    <tr>\n      <th>Climate</th>\n      <td>object</td>\n      <td>22</td>\n      <td>9.691630</td>\n      <td>6</td>\n    </tr>\n    <tr>\n      <th>Birthrate</th>\n      <td>object</td>\n      <td>3</td>\n      <td>1.321586</td>\n      <td>220</td>\n    </tr>\n    <tr>\n      <th>Deathrate</th>\n      <td>object</td>\n      <td>4</td>\n      <td>1.762115</td>\n      <td>201</td>\n    </tr>\n    <tr>\n      <th>Agriculture</th>\n      <td>object</td>\n      <td>15</td>\n      <td>6.607930</td>\n      <td>150</td>\n    </tr>\n    <tr>\n      <th>Industry</th>\n      <td>object</td>\n      <td>16</td>\n      <td>7.048458</td>\n      <td>155</td>\n    </tr>\n    <tr>\n      <th>Service</th>\n      <td>object</td>\n      <td>15</td>\n      <td>6.607930</td>\n      <td>167</td>\n    </tr>\n  </tbody>\n</table>\n</div>"
     },
     "metadata": {},
     "execution_count": 6
    }
   ],
   "source": [
    "# Informações sobre o dataframe:\n",
    "exploration = pd.DataFrame({'type': countries.dtypes,\n",
    "                            'amount': countries.isna().sum(),\n",
    "                            'percentage': (countries.isna().sum() / countries.shape[0]) * 100,\n",
    "                            'unique values': countries.nunique()})\n",
    "                            \n",
    "\n",
    "exploration"
   ]
  },
  {
   "cell_type": "code",
   "execution_count": 7,
   "metadata": {},
   "outputs": [],
   "source": [
    "def data_transformation(df):\n",
    "    \"\"\"Adjusting the data set.\"\"\"\n",
    "\n",
    "    # Alterando o separador decimal e convertendo as variáveis em numéricas:\n",
    "    df.iloc[0:, 4:] = df.iloc[0:, 4:].replace(',', '.', regex=True).astype(float)\n",
    "\n",
    "    # Removendo os espaços em branco no começo e no final da string:\n",
    "    df = df.applymap(lambda x: x.strip() if type(x)==str else x)\n",
    "    return df\n",
    "\n",
    "# Chamando a função:\n",
    "countries = data_transformation(countries)"
   ]
  },
  {
   "cell_type": "markdown",
   "metadata": {},
   "source": [
    "Uma maneira fácil de alterar o separador seria usando o parâmetro **decimal** do pd.read_csv no momento da leitura do arquivo. Exemplo: ```countries = pd.read_csv(\"countries.csv\", decimal=',')```. Como o notebook já veio com a leitura feita decidi usar outra abordagem para resolver esse problema."
   ]
  },
  {
   "cell_type": "code",
   "execution_count": 8,
   "metadata": {},
   "outputs": [
    {
     "output_type": "execute_result",
     "data": {
      "text/plain": "          Country                Region  Population     Area  Pop_density  \\\n0     Afghanistan  ASIA (EX. NEAR EAST)    31056997   647500         48.0   \n1         Albania        EASTERN EUROPE     3581655    28748        124.6   \n2         Algeria       NORTHERN AFRICA    32930091  2381740         13.8   \n3  American Samoa               OCEANIA       57794      199        290.4   \n4         Andorra        WESTERN EUROPE       71201      468        152.1   \n\n   Coastline_ratio  Net_migration  Infant_mortality      GDP  Literacy  \\\n0             0.00          23.06            163.07    700.0      36.0   \n1             1.26          -4.93             21.52   4500.0      86.5   \n2             0.04          -0.39             31.00   6000.0      70.0   \n3            58.29         -20.71              9.27   8000.0      97.0   \n4             0.00           6.60              4.05  19000.0     100.0   \n\n   Phones_per_1000  Arable  Crops  Other  Climate  Birthrate  Deathrate  \\\n0              3.2   12.13   0.22  87.65      1.0      46.60      20.34   \n1             71.2   21.09   4.42  74.49      3.0      15.11       5.22   \n2             78.1    3.22   0.25  96.53      1.0      17.14       4.61   \n3            259.5   10.00  15.00  75.00      2.0      22.46       3.27   \n4            497.2    2.22   0.00  97.78      3.0       8.71       6.25   \n\n   Agriculture  Industry  Service  \n0        0.380     0.240    0.380  \n1        0.232     0.188    0.579  \n2        0.101     0.600    0.298  \n3          NaN       NaN      NaN  \n4          NaN       NaN      NaN  ",
      "text/html": "<div>\n<style scoped>\n    .dataframe tbody tr th:only-of-type {\n        vertical-align: middle;\n    }\n\n    .dataframe tbody tr th {\n        vertical-align: top;\n    }\n\n    .dataframe thead th {\n        text-align: right;\n    }\n</style>\n<table border=\"1\" class=\"dataframe\">\n  <thead>\n    <tr style=\"text-align: right;\">\n      <th></th>\n      <th>Country</th>\n      <th>Region</th>\n      <th>Population</th>\n      <th>Area</th>\n      <th>Pop_density</th>\n      <th>Coastline_ratio</th>\n      <th>Net_migration</th>\n      <th>Infant_mortality</th>\n      <th>GDP</th>\n      <th>Literacy</th>\n      <th>Phones_per_1000</th>\n      <th>Arable</th>\n      <th>Crops</th>\n      <th>Other</th>\n      <th>Climate</th>\n      <th>Birthrate</th>\n      <th>Deathrate</th>\n      <th>Agriculture</th>\n      <th>Industry</th>\n      <th>Service</th>\n    </tr>\n  </thead>\n  <tbody>\n    <tr>\n      <th>0</th>\n      <td>Afghanistan</td>\n      <td>ASIA (EX. NEAR EAST)</td>\n      <td>31056997</td>\n      <td>647500</td>\n      <td>48.0</td>\n      <td>0.00</td>\n      <td>23.06</td>\n      <td>163.07</td>\n      <td>700.0</td>\n      <td>36.0</td>\n      <td>3.2</td>\n      <td>12.13</td>\n      <td>0.22</td>\n      <td>87.65</td>\n      <td>1.0</td>\n      <td>46.60</td>\n      <td>20.34</td>\n      <td>0.380</td>\n      <td>0.240</td>\n      <td>0.380</td>\n    </tr>\n    <tr>\n      <th>1</th>\n      <td>Albania</td>\n      <td>EASTERN EUROPE</td>\n      <td>3581655</td>\n      <td>28748</td>\n      <td>124.6</td>\n      <td>1.26</td>\n      <td>-4.93</td>\n      <td>21.52</td>\n      <td>4500.0</td>\n      <td>86.5</td>\n      <td>71.2</td>\n      <td>21.09</td>\n      <td>4.42</td>\n      <td>74.49</td>\n      <td>3.0</td>\n      <td>15.11</td>\n      <td>5.22</td>\n      <td>0.232</td>\n      <td>0.188</td>\n      <td>0.579</td>\n    </tr>\n    <tr>\n      <th>2</th>\n      <td>Algeria</td>\n      <td>NORTHERN AFRICA</td>\n      <td>32930091</td>\n      <td>2381740</td>\n      <td>13.8</td>\n      <td>0.04</td>\n      <td>-0.39</td>\n      <td>31.00</td>\n      <td>6000.0</td>\n      <td>70.0</td>\n      <td>78.1</td>\n      <td>3.22</td>\n      <td>0.25</td>\n      <td>96.53</td>\n      <td>1.0</td>\n      <td>17.14</td>\n      <td>4.61</td>\n      <td>0.101</td>\n      <td>0.600</td>\n      <td>0.298</td>\n    </tr>\n    <tr>\n      <th>3</th>\n      <td>American Samoa</td>\n      <td>OCEANIA</td>\n      <td>57794</td>\n      <td>199</td>\n      <td>290.4</td>\n      <td>58.29</td>\n      <td>-20.71</td>\n      <td>9.27</td>\n      <td>8000.0</td>\n      <td>97.0</td>\n      <td>259.5</td>\n      <td>10.00</td>\n      <td>15.00</td>\n      <td>75.00</td>\n      <td>2.0</td>\n      <td>22.46</td>\n      <td>3.27</td>\n      <td>NaN</td>\n      <td>NaN</td>\n      <td>NaN</td>\n    </tr>\n    <tr>\n      <th>4</th>\n      <td>Andorra</td>\n      <td>WESTERN EUROPE</td>\n      <td>71201</td>\n      <td>468</td>\n      <td>152.1</td>\n      <td>0.00</td>\n      <td>6.60</td>\n      <td>4.05</td>\n      <td>19000.0</td>\n      <td>100.0</td>\n      <td>497.2</td>\n      <td>2.22</td>\n      <td>0.00</td>\n      <td>97.78</td>\n      <td>3.0</td>\n      <td>8.71</td>\n      <td>6.25</td>\n      <td>NaN</td>\n      <td>NaN</td>\n      <td>NaN</td>\n    </tr>\n  </tbody>\n</table>\n</div>"
     },
     "metadata": {},
     "execution_count": 8
    }
   ],
   "source": [
    "# Visualizando os dados depois das alterações:\n",
    "countries.head()"
   ]
  },
  {
   "cell_type": "markdown",
   "metadata": {},
   "source": [
    "## Questão 1\n",
    "\n",
    "Quais são as regiões (variável `Region`) presentes no _data set_? Retorne uma lista com as regiões únicas do _data set_ com os espaços à frente e atrás da string removidos (mas mantenha pontuação: ponto, hífen etc) e ordenadas em ordem alfabética."
   ]
  },
  {
   "cell_type": "code",
   "execution_count": 9,
   "metadata": {},
   "outputs": [
    {
     "output_type": "execute_result",
     "data": {
      "text/plain": "['ASIA (EX. NEAR EAST)',\n 'BALTICS',\n 'C.W. OF IND. STATES',\n 'EASTERN EUROPE',\n 'LATIN AMER. & CARIB',\n 'NEAR EAST',\n 'NORTHERN AFRICA',\n 'NORTHERN AMERICA',\n 'OCEANIA',\n 'SUB-SAHARAN AFRICA',\n 'WESTERN EUROPE']"
     },
     "metadata": {},
     "execution_count": 9
    }
   ],
   "source": [
    "def q1():\n",
    "   \"\"\"Ordered list with the unique values ​​of the 'Region' column.\"\"\"\n",
    "\n",
    "   return sorted(countries['Region'].unique())\n",
    "q1()"
   ]
  },
  {
   "cell_type": "markdown",
   "metadata": {},
   "source": [
    "## Questão 2\n",
    "\n",
    "Discretizando a variável `Pop_density` em 10 intervalos com `KBinsDiscretizer`, seguindo o encode `ordinal` e estratégia `quantile`, quantos países se encontram acima do 90º percentil? Responda como um único escalar inteiro."
   ]
  },
  {
   "cell_type": "code",
   "execution_count": 11,
   "metadata": {},
   "outputs": [
    {
     "output_type": "execute_result",
     "data": {
      "text/plain": "23"
     },
     "metadata": {},
     "execution_count": 11
    }
   ],
   "source": [
    "def q2():\n",
    "    \"\"\"Transform the variable with KBinsDiscretizer.\"\"\"\n",
    "\n",
    "    # Configurando o discretizador:\n",
    "    discretize = KBinsDiscretizer(n_bins=10, encode='ordinal', strategy='quantile')\n",
    "\n",
    "    # Ajustando e transformando os dados:\n",
    "    answer = discretize.fit_transform(countries[['Pop_density']])\n",
    "\n",
    "    # Número de países que estão acima de 90º percentil:\n",
    "    return int((answer >= 9).sum())\n",
    "q2()"
   ]
  },
  {
   "cell_type": "markdown",
   "metadata": {},
   "source": [
    "A Discretização é o processo pelo qual podemos transformar variáveis contínuas em uma forma discreta. Os dados contínuos são medidos, enquanto os dados discretos são contados."
   ]
  },
  {
   "cell_type": "markdown",
   "metadata": {},
   "source": [
    "* **n_bins:** Número de intervalos. \n",
    "* **encode='ordinal':** Retorna o resultado codificado como um valor inteiro.\n",
    "* **strategy='quantile':** Cada bins tem aproximadamente o mesmo número de amostras.\n",
    "\n",
    "Para mais detalhes sobre essas informações consulte a [documentação](https://scikit-learn.org/stable/modules/generated/sklearn.preprocessing.KBinsDiscretizer.html)."
   ]
  },
  {
   "cell_type": "markdown",
   "metadata": {},
   "source": [
    "# Questão 3\n",
    "\n",
    "Se codificarmos as variáveis `Region` e `Climate` usando _one-hot encoding_, quantos novos atributos seriam criados? Responda como um único escalar."
   ]
  },
  {
   "cell_type": "code",
   "execution_count": 13,
   "metadata": {},
   "outputs": [
    {
     "output_type": "execute_result",
     "data": {
      "text/plain": "18"
     },
     "metadata": {},
     "execution_count": 13
    }
   ],
   "source": [
    "def q3():\n",
    "    \"\"\"Applying one-hot-encoding.\"\"\"\n",
    "\n",
    "    # Número de novos atributos:\n",
    "    return pd.get_dummies(countries[['Region','Climate']]).shape[1] + countries[['Climate']].nunique()[0]\n",
    "q3()"
   ]
  },
  {
   "cell_type": "markdown",
   "metadata": {},
   "source": [
    "Quando usamos o **get_dummies()** o pandas por padrão executa a codificação one-hot encoding. \n",
    "\n",
    "O **one-hot encoding** é um processo pelo qual variáveis ​​categóricas são convertidas em um formato que pode ser fornecido aos algoritmos de ML para fazer um trabalho melhor na previsão."
   ]
  },
  {
   "cell_type": "markdown",
   "metadata": {},
   "source": [
    "## Questão 4\n",
    "\n",
    "Aplique o seguinte _pipeline_:\n",
    "\n",
    "1. Preencha as variáveis do tipo `int64` e `float64` com suas respectivas medianas.\n",
    "2. Padronize essas variáveis.\n",
    "\n",
    "Após aplicado o _pipeline_ descrito acima aos dados (somente nas variáveis dos tipos especificados), aplique o mesmo _pipeline_ (ou `ColumnTransformer`) ao dado abaixo. Qual o valor da variável `Arable` após o _pipeline_? Responda como um único float arredondado para três casas decimais."
   ]
  },
  {
   "cell_type": "code",
   "execution_count": 14,
   "metadata": {},
   "outputs": [],
   "source": [
    "test_country = [\n",
    "    'Test Country', 'NEAR EAST', -0.19032480757326514,\n",
    "    -0.3232636124824411, -0.04421734470810142, -0.27528113360605316,\n",
    "    0.13255850810281325, -0.8054845935643491, 1.0119784924248225,\n",
    "    0.6189182532646624, 1.0074863283776458, 0.20239896852403538,\n",
    "    -0.043678728558593366, -0.13929748680369286, 1.3163604645710438,\n",
    "    -0.3699637766938669, -0.6149300604558857, -0.854369594993175,\n",
    "    0.263445277972641, 0.5712416961268142\n",
    "]"
   ]
  },
  {
   "cell_type": "code",
   "execution_count": 15,
   "metadata": {},
   "outputs": [
    {
     "output_type": "execute_result",
     "data": {
      "text/plain": "-1.047"
     },
     "metadata": {},
     "execution_count": 15
    }
   ],
   "source": [
    "def q4():\n",
    "    \"\"\"Using the pipeline to chain multiple transformation tasks.\"\"\"\n",
    "\n",
    "    # Selecionando só as colunas numéricas:\n",
    "    num_features = countries.select_dtypes(exclude=['object'])\n",
    "\n",
    "    # Lista de etapas do pipeline:\n",
    "    pipe = Pipeline(steps=[\n",
    "        (\"imputer\", SimpleImputer(strategy=\"median\")), \n",
    "        ('scale', StandardScaler())])\n",
    "\n",
    "    # Aplicando o pipeline somente nas variáveis dos tipos especificados:\n",
    "    pipe.fit(num_features)\n",
    "\n",
    "    # Aolicando o mesmo pipeline nos dados test_country:\n",
    "    pipe_transform = pipe.transform([test_country[2:]])\n",
    "\n",
    "    # Valor da variável Arable após o pipeline:\n",
    "    answer = pipe_transform[:, num_features.columns.get_loc(\"Arable\")]\n",
    "    return np.round(answer.item(), 3)\n",
    "q4()"
   ]
  },
  {
   "cell_type": "markdown",
   "metadata": {},
   "source": [
    "* O **SimpleImputer(strategy=\"median\")** Subistitui os valores ausentes usando a mediana em cada coluna.\n",
    "\n",
    "* O **StandardScaler** executa a tarefa de padronização, ou seja, transforma as features para que elas fiquem em uma mesma escala. Cada coluna vai ter média igual a 0 e desvio padrão igual a 1."
   ]
  },
  {
   "cell_type": "markdown",
   "metadata": {},
   "source": [
    "## Questão 5\n",
    "\n",
    "Descubra o número de _outliers_ da variável `Net_migration` segundo o método do _boxplot_, ou seja, usando a lógica:\n",
    "\n",
    "$$x \\notin [Q1 - 1.5 \\times \\text{IQR}, Q3 + 1.5 \\times \\text{IQR}] \\Rightarrow x \\text{ é outlier}$$\n",
    "\n",
    "que se encontram no grupo inferior e no grupo superior.\n",
    "\n",
    "Você deveria remover da análise as observações consideradas _outliers_ segundo esse método? Responda como uma tupla de três elementos `(outliers_abaixo, outliers_acima, removeria?)` ((int, int, bool))."
   ]
  },
  {
   "cell_type": "code",
   "execution_count": 16,
   "metadata": {},
   "outputs": [
    {
     "output_type": "execute_result",
     "data": {
      "text/plain": "(24, 26, False)"
     },
     "metadata": {},
     "execution_count": 16
    }
   ],
   "source": [
    "def q5():\n",
    "    \"\"\"Identifying outliers.\"\"\"\n",
    "\n",
    "    # Definindo os quartis:\n",
    "    Q1 = countries['Net_migration'].quantile(q= 0.25)\n",
    "    Q3 = countries['Net_migration'].quantile(q= 0.75)\n",
    "\n",
    "    # Intervalo interquartil:\n",
    "    IQR = Q3 - Q1\n",
    "\n",
    "   # Limite inferior:\n",
    "    lim_max = (countries['Net_migration'] < (Q1 - 1.5 * IQR)).sum()\n",
    "    # Limite superior:\n",
    "    lim_min = (countries['Net_migration'] > (Q3 + 1.5 * IQR)).sum()\n",
    "    \n",
    "    # Número de outliers:\n",
    "    return int(lim_max), int(lim_min),False\n",
    "q5()"
   ]
  },
  {
   "cell_type": "markdown",
   "metadata": {},
   "source": [
    "### Nessa questão a única coisa que fizemos foi identificar a quantidade de outliers, por isso antes de removê-los devemos fazer uma análise mais profunda."
   ]
  },
  {
   "cell_type": "code",
   "execution_count": 17,
   "metadata": {},
   "outputs": [
    {
     "output_type": "display_data",
     "data": {
      "text/plain": "<Figure size 864x576 with 1 Axes>",
      "image/svg+xml": "<?xml version=\"1.0\" encoding=\"utf-8\" standalone=\"no\"?>\n<!DOCTYPE svg PUBLIC \"-//W3C//DTD SVG 1.1//EN\"\n  \"http://www.w3.org/Graphics/SVG/1.1/DTD/svg11.dtd\">\n<!-- Created with matplotlib (https://matplotlib.org/) -->\n<svg height=\"485.373437pt\" version=\"1.1\" viewBox=\"0 0 710.993437 485.373437\" width=\"710.993437pt\" xmlns=\"http://www.w3.org/2000/svg\" xmlns:xlink=\"http://www.w3.org/1999/xlink\">\n <defs>\n  <style type=\"text/css\">\n*{stroke-linecap:butt;stroke-linejoin:round;}\n  </style>\n </defs>\n <g id=\"figure_1\">\n  <g id=\"patch_1\">\n   <path d=\"M 0 485.373437 \nL 710.993437 485.373437 \nL 710.993437 0 \nL 0 0 \nz\n\" style=\"fill:#ffffff;\"/>\n  </g>\n  <g id=\"axes_1\">\n   <g id=\"patch_2\">\n    <path d=\"M 34.193438 442.08 \nL 703.793437 442.08 \nL 703.793437 7.2 \nL 34.193438 7.2 \nz\n\" style=\"fill:#eaeaf2;\"/>\n   </g>\n   <g id=\"matplotlib.axis_1\">\n    <g id=\"xtick_1\">\n     <g id=\"line2d_1\">\n      <path clip-path=\"url(#p5cb00b8006)\" d=\"M 97.260755 442.08 \nL 97.260755 7.2 \n\" style=\"fill:none;stroke:#ffffff;stroke-linecap:round;\"/>\n     </g>\n     <g id=\"text_1\">\n      <!-- −20 -->\n      <defs>\n       <path d=\"M 10.59375 35.5 \nL 73.1875 35.5 \nL 73.1875 27.203125 \nL 10.59375 27.203125 \nz\n\" id=\"DejaVuSans-8722\"/>\n       <path d=\"M 19.1875 8.296875 \nL 53.609375 8.296875 \nL 53.609375 0 \nL 7.328125 0 \nL 7.328125 8.296875 \nQ 12.9375 14.109375 22.625 23.890625 \nQ 32.328125 33.6875 34.8125 36.53125 \nQ 39.546875 41.84375 41.421875 45.53125 \nQ 43.3125 49.21875 43.3125 52.78125 \nQ 43.3125 58.59375 39.234375 62.25 \nQ 35.15625 65.921875 28.609375 65.921875 \nQ 23.96875 65.921875 18.8125 64.3125 \nQ 13.671875 62.703125 7.8125 59.421875 \nL 7.8125 69.390625 \nQ 13.765625 71.78125 18.9375 73 \nQ 24.125 74.21875 28.421875 74.21875 \nQ 39.75 74.21875 46.484375 68.546875 \nQ 53.21875 62.890625 53.21875 53.421875 \nQ 53.21875 48.921875 51.53125 44.890625 \nQ 49.859375 40.875 45.40625 35.40625 \nQ 44.1875 33.984375 37.640625 27.21875 \nQ 31.109375 20.453125 19.1875 8.296875 \nz\n\" id=\"DejaVuSans-50\"/>\n       <path d=\"M 31.78125 66.40625 \nQ 24.171875 66.40625 20.328125 58.90625 \nQ 16.5 51.421875 16.5 36.375 \nQ 16.5 21.390625 20.328125 13.890625 \nQ 24.171875 6.390625 31.78125 6.390625 \nQ 39.453125 6.390625 43.28125 13.890625 \nQ 47.125 21.390625 47.125 36.375 \nQ 47.125 51.421875 43.28125 58.90625 \nQ 39.453125 66.40625 31.78125 66.40625 \nz\nM 31.78125 74.21875 \nQ 44.046875 74.21875 50.515625 64.515625 \nQ 56.984375 54.828125 56.984375 36.375 \nQ 56.984375 17.96875 50.515625 8.265625 \nQ 44.046875 -1.421875 31.78125 -1.421875 \nQ 19.53125 -1.421875 13.0625 8.265625 \nQ 6.59375 17.96875 6.59375 36.375 \nQ 6.59375 54.828125 13.0625 64.515625 \nQ 19.53125 74.21875 31.78125 74.21875 \nz\n\" id=\"DejaVuSans-48\"/>\n      </defs>\n      <g style=\"fill:#262626;\" transform=\"translate(85.653177 459.938281)scale(0.11 -0.11)\">\n       <use xlink:href=\"#DejaVuSans-8722\"/>\n       <use x=\"83.789062\" xlink:href=\"#DejaVuSans-50\"/>\n       <use x=\"147.412109\" xlink:href=\"#DejaVuSans-48\"/>\n      </g>\n     </g>\n    </g>\n    <g id=\"xtick_2\">\n     <g id=\"line2d_2\">\n      <path clip-path=\"url(#p5cb00b8006)\" d=\"M 226.441969 442.08 \nL 226.441969 7.2 \n\" style=\"fill:none;stroke:#ffffff;stroke-linecap:round;\"/>\n     </g>\n     <g id=\"text_2\">\n      <!-- −10 -->\n      <defs>\n       <path d=\"M 12.40625 8.296875 \nL 28.515625 8.296875 \nL 28.515625 63.921875 \nL 10.984375 60.40625 \nL 10.984375 69.390625 \nL 28.421875 72.90625 \nL 38.28125 72.90625 \nL 38.28125 8.296875 \nL 54.390625 8.296875 \nL 54.390625 0 \nL 12.40625 0 \nz\n\" id=\"DejaVuSans-49\"/>\n      </defs>\n      <g style=\"fill:#262626;\" transform=\"translate(214.834391 459.938281)scale(0.11 -0.11)\">\n       <use xlink:href=\"#DejaVuSans-8722\"/>\n       <use x=\"83.789062\" xlink:href=\"#DejaVuSans-49\"/>\n       <use x=\"147.412109\" xlink:href=\"#DejaVuSans-48\"/>\n      </g>\n     </g>\n    </g>\n    <g id=\"xtick_3\">\n     <g id=\"line2d_3\">\n      <path clip-path=\"url(#p5cb00b8006)\" d=\"M 355.623182 442.08 \nL 355.623182 7.2 \n\" style=\"fill:none;stroke:#ffffff;stroke-linecap:round;\"/>\n     </g>\n     <g id=\"text_3\">\n      <!-- 0 -->\n      <g style=\"fill:#262626;\" transform=\"translate(352.123807 459.938281)scale(0.11 -0.11)\">\n       <use xlink:href=\"#DejaVuSans-48\"/>\n      </g>\n     </g>\n    </g>\n    <g id=\"xtick_4\">\n     <g id=\"line2d_4\">\n      <path clip-path=\"url(#p5cb00b8006)\" d=\"M 484.804395 442.08 \nL 484.804395 7.2 \n\" style=\"fill:none;stroke:#ffffff;stroke-linecap:round;\"/>\n     </g>\n     <g id=\"text_4\">\n      <!-- 10 -->\n      <g style=\"fill:#262626;\" transform=\"translate(477.805645 459.938281)scale(0.11 -0.11)\">\n       <use xlink:href=\"#DejaVuSans-49\"/>\n       <use x=\"63.623047\" xlink:href=\"#DejaVuSans-48\"/>\n      </g>\n     </g>\n    </g>\n    <g id=\"xtick_5\">\n     <g id=\"line2d_5\">\n      <path clip-path=\"url(#p5cb00b8006)\" d=\"M 613.985608 442.08 \nL 613.985608 7.2 \n\" style=\"fill:none;stroke:#ffffff;stroke-linecap:round;\"/>\n     </g>\n     <g id=\"text_5\">\n      <!-- 20 -->\n      <g style=\"fill:#262626;\" transform=\"translate(606.986858 459.938281)scale(0.11 -0.11)\">\n       <use xlink:href=\"#DejaVuSans-50\"/>\n       <use x=\"63.623047\" xlink:href=\"#DejaVuSans-48\"/>\n      </g>\n     </g>\n    </g>\n    <g id=\"text_6\">\n     <!-- Net_migration -->\n     <defs>\n      <path d=\"M 9.8125 72.90625 \nL 23.09375 72.90625 \nL 55.421875 11.921875 \nL 55.421875 72.90625 \nL 64.984375 72.90625 \nL 64.984375 0 \nL 51.703125 0 \nL 19.390625 60.984375 \nL 19.390625 0 \nL 9.8125 0 \nz\n\" id=\"DejaVuSans-78\"/>\n      <path d=\"M 56.203125 29.59375 \nL 56.203125 25.203125 \nL 14.890625 25.203125 \nQ 15.484375 15.921875 20.484375 11.0625 \nQ 25.484375 6.203125 34.421875 6.203125 \nQ 39.59375 6.203125 44.453125 7.46875 \nQ 49.3125 8.734375 54.109375 11.28125 \nL 54.109375 2.78125 \nQ 49.265625 0.734375 44.1875 -0.34375 \nQ 39.109375 -1.421875 33.890625 -1.421875 \nQ 20.796875 -1.421875 13.15625 6.1875 \nQ 5.515625 13.8125 5.515625 26.8125 \nQ 5.515625 40.234375 12.765625 48.109375 \nQ 20.015625 56 32.328125 56 \nQ 43.359375 56 49.78125 48.890625 \nQ 56.203125 41.796875 56.203125 29.59375 \nz\nM 47.21875 32.234375 \nQ 47.125 39.59375 43.09375 43.984375 \nQ 39.0625 48.390625 32.421875 48.390625 \nQ 24.90625 48.390625 20.390625 44.140625 \nQ 15.875 39.890625 15.1875 32.171875 \nz\n\" id=\"DejaVuSans-101\"/>\n      <path d=\"M 18.3125 70.21875 \nL 18.3125 54.6875 \nL 36.8125 54.6875 \nL 36.8125 47.703125 \nL 18.3125 47.703125 \nL 18.3125 18.015625 \nQ 18.3125 11.328125 20.140625 9.421875 \nQ 21.96875 7.515625 27.59375 7.515625 \nL 36.8125 7.515625 \nL 36.8125 0 \nL 27.59375 0 \nQ 17.1875 0 13.234375 3.875 \nQ 9.28125 7.765625 9.28125 18.015625 \nL 9.28125 47.703125 \nL 2.6875 47.703125 \nL 2.6875 54.6875 \nL 9.28125 54.6875 \nL 9.28125 70.21875 \nz\n\" id=\"DejaVuSans-116\"/>\n      <path d=\"M 50.984375 -16.609375 \nL 50.984375 -23.578125 \nL -0.984375 -23.578125 \nL -0.984375 -16.609375 \nz\n\" id=\"DejaVuSans-95\"/>\n      <path d=\"M 52 44.1875 \nQ 55.375 50.25 60.0625 53.125 \nQ 64.75 56 71.09375 56 \nQ 79.640625 56 84.28125 50.015625 \nQ 88.921875 44.046875 88.921875 33.015625 \nL 88.921875 0 \nL 79.890625 0 \nL 79.890625 32.71875 \nQ 79.890625 40.578125 77.09375 44.375 \nQ 74.3125 48.1875 68.609375 48.1875 \nQ 61.625 48.1875 57.5625 43.546875 \nQ 53.515625 38.921875 53.515625 30.90625 \nL 53.515625 0 \nL 44.484375 0 \nL 44.484375 32.71875 \nQ 44.484375 40.625 41.703125 44.40625 \nQ 38.921875 48.1875 33.109375 48.1875 \nQ 26.21875 48.1875 22.15625 43.53125 \nQ 18.109375 38.875 18.109375 30.90625 \nL 18.109375 0 \nL 9.078125 0 \nL 9.078125 54.6875 \nL 18.109375 54.6875 \nL 18.109375 46.1875 \nQ 21.1875 51.21875 25.484375 53.609375 \nQ 29.78125 56 35.6875 56 \nQ 41.65625 56 45.828125 52.96875 \nQ 50 49.953125 52 44.1875 \nz\n\" id=\"DejaVuSans-109\"/>\n      <path d=\"M 9.421875 54.6875 \nL 18.40625 54.6875 \nL 18.40625 0 \nL 9.421875 0 \nz\nM 9.421875 75.984375 \nL 18.40625 75.984375 \nL 18.40625 64.59375 \nL 9.421875 64.59375 \nz\n\" id=\"DejaVuSans-105\"/>\n      <path d=\"M 45.40625 27.984375 \nQ 45.40625 37.75 41.375 43.109375 \nQ 37.359375 48.484375 30.078125 48.484375 \nQ 22.859375 48.484375 18.828125 43.109375 \nQ 14.796875 37.75 14.796875 27.984375 \nQ 14.796875 18.265625 18.828125 12.890625 \nQ 22.859375 7.515625 30.078125 7.515625 \nQ 37.359375 7.515625 41.375 12.890625 \nQ 45.40625 18.265625 45.40625 27.984375 \nz\nM 54.390625 6.78125 \nQ 54.390625 -7.171875 48.1875 -13.984375 \nQ 42 -20.796875 29.203125 -20.796875 \nQ 24.46875 -20.796875 20.265625 -20.09375 \nQ 16.0625 -19.390625 12.109375 -17.921875 \nL 12.109375 -9.1875 \nQ 16.0625 -11.328125 19.921875 -12.34375 \nQ 23.78125 -13.375 27.78125 -13.375 \nQ 36.625 -13.375 41.015625 -8.765625 \nQ 45.40625 -4.15625 45.40625 5.171875 \nL 45.40625 9.625 \nQ 42.625 4.78125 38.28125 2.390625 \nQ 33.9375 0 27.875 0 \nQ 17.828125 0 11.671875 7.65625 \nQ 5.515625 15.328125 5.515625 27.984375 \nQ 5.515625 40.671875 11.671875 48.328125 \nQ 17.828125 56 27.875 56 \nQ 33.9375 56 38.28125 53.609375 \nQ 42.625 51.21875 45.40625 46.390625 \nL 45.40625 54.6875 \nL 54.390625 54.6875 \nz\n\" id=\"DejaVuSans-103\"/>\n      <path d=\"M 41.109375 46.296875 \nQ 39.59375 47.171875 37.8125 47.578125 \nQ 36.03125 48 33.890625 48 \nQ 26.265625 48 22.1875 43.046875 \nQ 18.109375 38.09375 18.109375 28.8125 \nL 18.109375 0 \nL 9.078125 0 \nL 9.078125 54.6875 \nL 18.109375 54.6875 \nL 18.109375 46.1875 \nQ 20.953125 51.171875 25.484375 53.578125 \nQ 30.03125 56 36.53125 56 \nQ 37.453125 56 38.578125 55.875 \nQ 39.703125 55.765625 41.0625 55.515625 \nz\n\" id=\"DejaVuSans-114\"/>\n      <path d=\"M 34.28125 27.484375 \nQ 23.390625 27.484375 19.1875 25 \nQ 14.984375 22.515625 14.984375 16.5 \nQ 14.984375 11.71875 18.140625 8.90625 \nQ 21.296875 6.109375 26.703125 6.109375 \nQ 34.1875 6.109375 38.703125 11.40625 \nQ 43.21875 16.703125 43.21875 25.484375 \nL 43.21875 27.484375 \nz\nM 52.203125 31.203125 \nL 52.203125 0 \nL 43.21875 0 \nL 43.21875 8.296875 \nQ 40.140625 3.328125 35.546875 0.953125 \nQ 30.953125 -1.421875 24.3125 -1.421875 \nQ 15.921875 -1.421875 10.953125 3.296875 \nQ 6 8.015625 6 15.921875 \nQ 6 25.140625 12.171875 29.828125 \nQ 18.359375 34.515625 30.609375 34.515625 \nL 43.21875 34.515625 \nL 43.21875 35.40625 \nQ 43.21875 41.609375 39.140625 45 \nQ 35.0625 48.390625 27.6875 48.390625 \nQ 23 48.390625 18.546875 47.265625 \nQ 14.109375 46.140625 10.015625 43.890625 \nL 10.015625 52.203125 \nQ 14.9375 54.109375 19.578125 55.046875 \nQ 24.21875 56 28.609375 56 \nQ 40.484375 56 46.34375 49.84375 \nQ 52.203125 43.703125 52.203125 31.203125 \nz\n\" id=\"DejaVuSans-97\"/>\n      <path d=\"M 30.609375 48.390625 \nQ 23.390625 48.390625 19.1875 42.75 \nQ 14.984375 37.109375 14.984375 27.296875 \nQ 14.984375 17.484375 19.15625 11.84375 \nQ 23.34375 6.203125 30.609375 6.203125 \nQ 37.796875 6.203125 41.984375 11.859375 \nQ 46.1875 17.53125 46.1875 27.296875 \nQ 46.1875 37.015625 41.984375 42.703125 \nQ 37.796875 48.390625 30.609375 48.390625 \nz\nM 30.609375 56 \nQ 42.328125 56 49.015625 48.375 \nQ 55.71875 40.765625 55.71875 27.296875 \nQ 55.71875 13.875 49.015625 6.21875 \nQ 42.328125 -1.421875 30.609375 -1.421875 \nQ 18.84375 -1.421875 12.171875 6.21875 \nQ 5.515625 13.875 5.515625 27.296875 \nQ 5.515625 40.765625 12.171875 48.375 \nQ 18.84375 56 30.609375 56 \nz\n\" id=\"DejaVuSans-111\"/>\n      <path d=\"M 54.890625 33.015625 \nL 54.890625 0 \nL 45.90625 0 \nL 45.90625 32.71875 \nQ 45.90625 40.484375 42.875 44.328125 \nQ 39.84375 48.1875 33.796875 48.1875 \nQ 26.515625 48.1875 22.3125 43.546875 \nQ 18.109375 38.921875 18.109375 30.90625 \nL 18.109375 0 \nL 9.078125 0 \nL 9.078125 54.6875 \nL 18.109375 54.6875 \nL 18.109375 46.1875 \nQ 21.34375 51.125 25.703125 53.5625 \nQ 30.078125 56 35.796875 56 \nQ 45.21875 56 50.046875 50.171875 \nQ 54.890625 44.34375 54.890625 33.015625 \nz\n\" id=\"DejaVuSans-110\"/>\n     </defs>\n     <g style=\"fill:#262626;\" transform=\"translate(326.504062 475.344062)scale(0.12 -0.12)\">\n      <use xlink:href=\"#DejaVuSans-78\"/>\n      <use x=\"74.804688\" xlink:href=\"#DejaVuSans-101\"/>\n      <use x=\"136.328125\" xlink:href=\"#DejaVuSans-116\"/>\n      <use x=\"175.537109\" xlink:href=\"#DejaVuSans-95\"/>\n      <use x=\"225.537109\" xlink:href=\"#DejaVuSans-109\"/>\n      <use x=\"322.949219\" xlink:href=\"#DejaVuSans-105\"/>\n      <use x=\"350.732422\" xlink:href=\"#DejaVuSans-103\"/>\n      <use x=\"414.208984\" xlink:href=\"#DejaVuSans-114\"/>\n      <use x=\"455.322266\" xlink:href=\"#DejaVuSans-97\"/>\n      <use x=\"516.601562\" xlink:href=\"#DejaVuSans-116\"/>\n      <use x=\"555.810547\" xlink:href=\"#DejaVuSans-105\"/>\n      <use x=\"583.59375\" xlink:href=\"#DejaVuSans-111\"/>\n      <use x=\"644.775391\" xlink:href=\"#DejaVuSans-110\"/>\n     </g>\n    </g>\n   </g>\n   <g id=\"matplotlib.axis_2\">\n    <g id=\"ytick_1\">\n     <g id=\"line2d_6\">\n      <path clip-path=\"url(#p5cb00b8006)\" d=\"M 34.193438 442.08 \nL 703.793437 442.08 \n\" style=\"fill:none;stroke:#ffffff;stroke-linecap:round;\"/>\n     </g>\n     <g id=\"text_7\">\n      <!-- 0.0 -->\n      <defs>\n       <path d=\"M 10.6875 12.40625 \nL 21 12.40625 \nL 21 0 \nL 10.6875 0 \nz\n\" id=\"DejaVuSans-46\"/>\n      </defs>\n      <g style=\"fill:#262626;\" transform=\"translate(7.2 446.259141)scale(0.11 -0.11)\">\n       <use xlink:href=\"#DejaVuSans-48\"/>\n       <use x=\"63.623047\" xlink:href=\"#DejaVuSans-46\"/>\n       <use x=\"95.410156\" xlink:href=\"#DejaVuSans-48\"/>\n      </g>\n     </g>\n    </g>\n    <g id=\"ytick_2\">\n     <g id=\"line2d_7\">\n      <path clip-path=\"url(#p5cb00b8006)\" d=\"M 34.193438 354.193714 \nL 703.793437 354.193714 \n\" style=\"fill:none;stroke:#ffffff;stroke-linecap:round;\"/>\n     </g>\n     <g id=\"text_8\">\n      <!-- 0.1 -->\n      <g style=\"fill:#262626;\" transform=\"translate(7.2 358.372854)scale(0.11 -0.11)\">\n       <use xlink:href=\"#DejaVuSans-48\"/>\n       <use x=\"63.623047\" xlink:href=\"#DejaVuSans-46\"/>\n       <use x=\"95.410156\" xlink:href=\"#DejaVuSans-49\"/>\n      </g>\n     </g>\n    </g>\n    <g id=\"ytick_3\">\n     <g id=\"line2d_8\">\n      <path clip-path=\"url(#p5cb00b8006)\" d=\"M 34.193438 266.307427 \nL 703.793437 266.307427 \n\" style=\"fill:none;stroke:#ffffff;stroke-linecap:round;\"/>\n     </g>\n     <g id=\"text_9\">\n      <!-- 0.2 -->\n      <g style=\"fill:#262626;\" transform=\"translate(7.2 270.486568)scale(0.11 -0.11)\">\n       <use xlink:href=\"#DejaVuSans-48\"/>\n       <use x=\"63.623047\" xlink:href=\"#DejaVuSans-46\"/>\n       <use x=\"95.410156\" xlink:href=\"#DejaVuSans-50\"/>\n      </g>\n     </g>\n    </g>\n    <g id=\"ytick_4\">\n     <g id=\"line2d_9\">\n      <path clip-path=\"url(#p5cb00b8006)\" d=\"M 34.193438 178.421141 \nL 703.793437 178.421141 \n\" style=\"fill:none;stroke:#ffffff;stroke-linecap:round;\"/>\n     </g>\n     <g id=\"text_10\">\n      <!-- 0.3 -->\n      <defs>\n       <path d=\"M 40.578125 39.3125 \nQ 47.65625 37.796875 51.625 33 \nQ 55.609375 28.21875 55.609375 21.1875 \nQ 55.609375 10.40625 48.1875 4.484375 \nQ 40.765625 -1.421875 27.09375 -1.421875 \nQ 22.515625 -1.421875 17.65625 -0.515625 \nQ 12.796875 0.390625 7.625 2.203125 \nL 7.625 11.71875 \nQ 11.71875 9.328125 16.59375 8.109375 \nQ 21.484375 6.890625 26.8125 6.890625 \nQ 36.078125 6.890625 40.9375 10.546875 \nQ 45.796875 14.203125 45.796875 21.1875 \nQ 45.796875 27.640625 41.28125 31.265625 \nQ 36.765625 34.90625 28.71875 34.90625 \nL 20.21875 34.90625 \nL 20.21875 43.015625 \nL 29.109375 43.015625 \nQ 36.375 43.015625 40.234375 45.921875 \nQ 44.09375 48.828125 44.09375 54.296875 \nQ 44.09375 59.90625 40.109375 62.90625 \nQ 36.140625 65.921875 28.71875 65.921875 \nQ 24.65625 65.921875 20.015625 65.03125 \nQ 15.375 64.15625 9.8125 62.3125 \nL 9.8125 71.09375 \nQ 15.4375 72.65625 20.34375 73.4375 \nQ 25.25 74.21875 29.59375 74.21875 \nQ 40.828125 74.21875 47.359375 69.109375 \nQ 53.90625 64.015625 53.90625 55.328125 \nQ 53.90625 49.265625 50.4375 45.09375 \nQ 46.96875 40.921875 40.578125 39.3125 \nz\n\" id=\"DejaVuSans-51\"/>\n      </defs>\n      <g style=\"fill:#262626;\" transform=\"translate(7.2 182.600281)scale(0.11 -0.11)\">\n       <use xlink:href=\"#DejaVuSans-48\"/>\n       <use x=\"63.623047\" xlink:href=\"#DejaVuSans-46\"/>\n       <use x=\"95.410156\" xlink:href=\"#DejaVuSans-51\"/>\n      </g>\n     </g>\n    </g>\n    <g id=\"ytick_5\">\n     <g id=\"line2d_10\">\n      <path clip-path=\"url(#p5cb00b8006)\" d=\"M 34.193438 90.534854 \nL 703.793437 90.534854 \n\" style=\"fill:none;stroke:#ffffff;stroke-linecap:round;\"/>\n     </g>\n     <g id=\"text_11\">\n      <!-- 0.4 -->\n      <defs>\n       <path d=\"M 37.796875 64.3125 \nL 12.890625 25.390625 \nL 37.796875 25.390625 \nz\nM 35.203125 72.90625 \nL 47.609375 72.90625 \nL 47.609375 25.390625 \nL 58.015625 25.390625 \nL 58.015625 17.1875 \nL 47.609375 17.1875 \nL 47.609375 0 \nL 37.796875 0 \nL 37.796875 17.1875 \nL 4.890625 17.1875 \nL 4.890625 26.703125 \nz\n\" id=\"DejaVuSans-52\"/>\n      </defs>\n      <g style=\"fill:#262626;\" transform=\"translate(7.2 94.713995)scale(0.11 -0.11)\">\n       <use xlink:href=\"#DejaVuSans-48\"/>\n       <use x=\"63.623047\" xlink:href=\"#DejaVuSans-46\"/>\n       <use x=\"95.410156\" xlink:href=\"#DejaVuSans-52\"/>\n      </g>\n     </g>\n    </g>\n   </g>\n   <g id=\"patch_3\">\n    <path clip-path=\"url(#p5cb00b8006)\" d=\"M 84.471815 442.08 \nL 95.85268 442.08 \nL 95.85268 433.173088 \nL 84.471815 433.173088 \nz\n\" style=\"fill:#8172b3;opacity:0.4;stroke:#ffffff;stroke-linejoin:miter;\"/>\n   </g>\n   <g id=\"patch_4\">\n    <path clip-path=\"url(#p5cb00b8006)\" d=\"M 95.85268 442.08 \nL 107.233545 442.08 \nL 107.233545 442.08 \nL 95.85268 442.08 \nz\n\" style=\"fill:#8172b3;opacity:0.4;stroke:#ffffff;stroke-linejoin:miter;\"/>\n   </g>\n   <g id=\"patch_5\">\n    <path clip-path=\"url(#p5cb00b8006)\" d=\"M 107.233545 442.08 \nL 118.61441 442.08 \nL 118.61441 442.08 \nL 107.233545 442.08 \nz\n\" style=\"fill:#8172b3;opacity:0.4;stroke:#ffffff;stroke-linejoin:miter;\"/>\n   </g>\n   <g id=\"patch_6\">\n    <path clip-path=\"url(#p5cb00b8006)\" d=\"M 118.61441 442.08 \nL 129.995275 442.08 \nL 129.995275 442.08 \nL 118.61441 442.08 \nz\n\" style=\"fill:#8172b3;opacity:0.4;stroke:#ffffff;stroke-linejoin:miter;\"/>\n   </g>\n   <g id=\"patch_7\">\n    <path clip-path=\"url(#p5cb00b8006)\" d=\"M 129.995275 442.08 \nL 141.37614 442.08 \nL 141.37614 442.08 \nL 129.995275 442.08 \nz\n\" style=\"fill:#8172b3;opacity:0.4;stroke:#ffffff;stroke-linejoin:miter;\"/>\n   </g>\n   <g id=\"patch_8\">\n    <path clip-path=\"url(#p5cb00b8006)\" d=\"M 141.37614 442.08 \nL 152.757005 442.08 \nL 152.757005 442.08 \nL 141.37614 442.08 \nz\n\" style=\"fill:#8172b3;opacity:0.4;stroke:#ffffff;stroke-linejoin:miter;\"/>\n   </g>\n   <g id=\"patch_9\">\n    <path clip-path=\"url(#p5cb00b8006)\" d=\"M 152.757005 442.08 \nL 164.137869 442.08 \nL 164.137869 442.08 \nL 152.757005 442.08 \nz\n\" style=\"fill:#8172b3;opacity:0.4;stroke:#ffffff;stroke-linejoin:miter;\"/>\n   </g>\n   <g id=\"patch_10\">\n    <path clip-path=\"url(#p5cb00b8006)\" d=\"M 164.137869 442.08 \nL 175.518734 442.08 \nL 175.518734 442.08 \nL 164.137869 442.08 \nz\n\" style=\"fill:#8172b3;opacity:0.4;stroke:#ffffff;stroke-linejoin:miter;\"/>\n   </g>\n   <g id=\"patch_11\">\n    <path clip-path=\"url(#p5cb00b8006)\" d=\"M 175.518734 442.08 \nL 186.899599 442.08 \nL 186.899599 433.173088 \nL 175.518734 433.173088 \nz\n\" style=\"fill:#8172b3;opacity:0.4;stroke:#ffffff;stroke-linejoin:miter;\"/>\n   </g>\n   <g id=\"patch_12\">\n    <path clip-path=\"url(#p5cb00b8006)\" d=\"M 186.899599 442.08 \nL 198.280464 442.08 \nL 198.280464 442.08 \nL 186.899599 442.08 \nz\n\" style=\"fill:#8172b3;opacity:0.4;stroke:#ffffff;stroke-linejoin:miter;\"/>\n   </g>\n   <g id=\"patch_13\">\n    <path clip-path=\"url(#p5cb00b8006)\" d=\"M 198.280464 442.08 \nL 209.661329 442.08 \nL 209.661329 433.173088 \nL 198.280464 433.173088 \nz\n\" style=\"fill:#8172b3;opacity:0.4;stroke:#ffffff;stroke-linejoin:miter;\"/>\n   </g>\n   <g id=\"patch_14\">\n    <path clip-path=\"url(#p5cb00b8006)\" d=\"M 209.661329 442.08 \nL 221.042194 442.08 \nL 221.042194 437.626544 \nL 209.661329 437.626544 \nz\n\" style=\"fill:#8172b3;opacity:0.4;stroke:#ffffff;stroke-linejoin:miter;\"/>\n   </g>\n   <g id=\"patch_15\">\n    <path clip-path=\"url(#p5cb00b8006)\" d=\"M 221.042194 442.08 \nL 232.423059 442.08 \nL 232.423059 442.08 \nL 221.042194 442.08 \nz\n\" style=\"fill:#8172b3;opacity:0.4;stroke:#ffffff;stroke-linejoin:miter;\"/>\n   </g>\n   <g id=\"patch_16\">\n    <path clip-path=\"url(#p5cb00b8006)\" d=\"M 232.423059 442.08 \nL 243.803924 442.08 \nL 243.803924 433.173088 \nL 232.423059 433.173088 \nz\n\" style=\"fill:#8172b3;opacity:0.4;stroke:#ffffff;stroke-linejoin:miter;\"/>\n   </g>\n   <g id=\"patch_17\">\n    <path clip-path=\"url(#p5cb00b8006)\" d=\"M 243.803924 442.08 \nL 255.184789 442.08 \nL 255.184789 433.173088 \nL 243.803924 433.173088 \nz\n\" style=\"fill:#8172b3;opacity:0.4;stroke:#ffffff;stroke-linejoin:miter;\"/>\n   </g>\n   <g id=\"patch_18\">\n    <path clip-path=\"url(#p5cb00b8006)\" d=\"M 255.184789 442.08 \nL 266.565653 442.08 \nL 266.565653 433.173088 \nL 255.184789 433.173088 \nz\n\" style=\"fill:#8172b3;opacity:0.4;stroke:#ffffff;stroke-linejoin:miter;\"/>\n   </g>\n   <g id=\"patch_19\">\n    <path clip-path=\"url(#p5cb00b8006)\" d=\"M 266.565653 442.08 \nL 277.946518 442.08 \nL 277.946518 428.719631 \nL 266.565653 428.719631 \nz\n\" style=\"fill:#8172b3;opacity:0.4;stroke:#ffffff;stroke-linejoin:miter;\"/>\n   </g>\n   <g id=\"patch_20\">\n    <path clip-path=\"url(#p5cb00b8006)\" d=\"M 277.946518 442.08 \nL 289.327383 442.08 \nL 289.327383 437.626544 \nL 277.946518 437.626544 \nz\n\" style=\"fill:#8172b3;opacity:0.4;stroke:#ffffff;stroke-linejoin:miter;\"/>\n   </g>\n   <g id=\"patch_21\">\n    <path clip-path=\"url(#p5cb00b8006)\" d=\"M 289.327383 442.08 \nL 300.708248 442.08 \nL 300.708248 410.905806 \nL 289.327383 410.905806 \nz\n\" style=\"fill:#8172b3;opacity:0.4;stroke:#ffffff;stroke-linejoin:miter;\"/>\n   </g>\n   <g id=\"patch_22\">\n    <path clip-path=\"url(#p5cb00b8006)\" d=\"M 300.708248 442.08 \nL 312.089113 442.08 \nL 312.089113 433.173088 \nL 300.708248 433.173088 \nz\n\" style=\"fill:#8172b3;opacity:0.4;stroke:#ffffff;stroke-linejoin:miter;\"/>\n   </g>\n   <g id=\"patch_23\">\n    <path clip-path=\"url(#p5cb00b8006)\" d=\"M 312.089113 442.08 \nL 323.469978 442.08 \nL 323.469978 397.545438 \nL 312.089113 397.545438 \nz\n\" style=\"fill:#8172b3;opacity:0.4;stroke:#ffffff;stroke-linejoin:miter;\"/>\n   </g>\n   <g id=\"patch_24\">\n    <path clip-path=\"url(#p5cb00b8006)\" d=\"M 323.469978 442.08 \nL 334.850843 442.08 \nL 334.850843 401.998894 \nL 323.469978 401.998894 \nz\n\" style=\"fill:#8172b3;opacity:0.4;stroke:#ffffff;stroke-linejoin:miter;\"/>\n   </g>\n   <g id=\"patch_25\">\n    <path clip-path=\"url(#p5cb00b8006)\" d=\"M 334.850843 442.08 \nL 346.231708 442.08 \nL 346.231708 370.8247 \nL 334.850843 370.8247 \nz\n\" style=\"fill:#8172b3;opacity:0.4;stroke:#ffffff;stroke-linejoin:miter;\"/>\n   </g>\n   <g id=\"patch_26\">\n    <path clip-path=\"url(#p5cb00b8006)\" d=\"M 346.231708 442.08 \nL 357.612573 442.08 \nL 357.612573 27.908571 \nL 346.231708 27.908571 \nz\n\" style=\"fill:#8172b3;opacity:0.4;stroke:#ffffff;stroke-linejoin:miter;\"/>\n   </g>\n   <g id=\"patch_27\">\n    <path clip-path=\"url(#p5cb00b8006)\" d=\"M 357.612573 442.08 \nL 368.993437 442.08 \nL 368.993437 370.8247 \nL 357.612573 370.8247 \nz\n\" style=\"fill:#8172b3;opacity:0.4;stroke:#ffffff;stroke-linejoin:miter;\"/>\n   </g>\n   <g id=\"patch_28\">\n    <path clip-path=\"url(#p5cb00b8006)\" d=\"M 368.993437 442.08 \nL 380.374302 442.08 \nL 380.374302 401.998894 \nL 368.993437 401.998894 \nz\n\" style=\"fill:#8172b3;opacity:0.4;stroke:#ffffff;stroke-linejoin:miter;\"/>\n   </g>\n   <g id=\"patch_29\">\n    <path clip-path=\"url(#p5cb00b8006)\" d=\"M 380.374302 442.08 \nL 391.755167 442.08 \nL 391.755167 393.091982 \nL 380.374302 393.091982 \nz\n\" style=\"fill:#8172b3;opacity:0.4;stroke:#ffffff;stroke-linejoin:miter;\"/>\n   </g>\n   <g id=\"patch_30\">\n    <path clip-path=\"url(#p5cb00b8006)\" d=\"M 391.755167 442.08 \nL 403.136032 442.08 \nL 403.136032 410.905806 \nL 391.755167 410.905806 \nz\n\" style=\"fill:#8172b3;opacity:0.4;stroke:#ffffff;stroke-linejoin:miter;\"/>\n   </g>\n   <g id=\"patch_31\">\n    <path clip-path=\"url(#p5cb00b8006)\" d=\"M 403.136032 442.08 \nL 414.516897 442.08 \nL 414.516897 424.266175 \nL 403.136032 424.266175 \nz\n\" style=\"fill:#8172b3;opacity:0.4;stroke:#ffffff;stroke-linejoin:miter;\"/>\n   </g>\n   <g id=\"patch_32\">\n    <path clip-path=\"url(#p5cb00b8006)\" d=\"M 414.516897 442.08 \nL 425.897762 442.08 \nL 425.897762 415.359263 \nL 414.516897 415.359263 \nz\n\" style=\"fill:#8172b3;opacity:0.4;stroke:#ffffff;stroke-linejoin:miter;\"/>\n   </g>\n   <g id=\"patch_33\">\n    <path clip-path=\"url(#p5cb00b8006)\" d=\"M 425.897762 442.08 \nL 437.278627 442.08 \nL 437.278627 433.173088 \nL 425.897762 433.173088 \nz\n\" style=\"fill:#8172b3;opacity:0.4;stroke:#ffffff;stroke-linejoin:miter;\"/>\n   </g>\n   <g id=\"patch_34\">\n    <path clip-path=\"url(#p5cb00b8006)\" d=\"M 437.278627 442.08 \nL 448.659492 442.08 \nL 448.659492 428.719631 \nL 437.278627 428.719631 \nz\n\" style=\"fill:#8172b3;opacity:0.4;stroke:#ffffff;stroke-linejoin:miter;\"/>\n   </g>\n   <g id=\"patch_35\">\n    <path clip-path=\"url(#p5cb00b8006)\" d=\"M 448.659492 442.08 \nL 460.040357 442.08 \nL 460.040357 437.626544 \nL 448.659492 437.626544 \nz\n\" style=\"fill:#8172b3;opacity:0.4;stroke:#ffffff;stroke-linejoin:miter;\"/>\n   </g>\n   <g id=\"patch_36\">\n    <path clip-path=\"url(#p5cb00b8006)\" d=\"M 460.040357 442.08 \nL 471.421222 442.08 \nL 471.421222 442.08 \nL 460.040357 442.08 \nz\n\" style=\"fill:#8172b3;opacity:0.4;stroke:#ffffff;stroke-linejoin:miter;\"/>\n   </g>\n   <g id=\"patch_37\">\n    <path clip-path=\"url(#p5cb00b8006)\" d=\"M 471.421222 442.08 \nL 482.802086 442.08 \nL 482.802086 433.173088 \nL 471.421222 433.173088 \nz\n\" style=\"fill:#8172b3;opacity:0.4;stroke:#ffffff;stroke-linejoin:miter;\"/>\n   </g>\n   <g id=\"patch_38\">\n    <path clip-path=\"url(#p5cb00b8006)\" d=\"M 482.802086 442.08 \nL 494.182951 442.08 \nL 494.182951 437.626544 \nL 482.802086 437.626544 \nz\n\" style=\"fill:#8172b3;opacity:0.4;stroke:#ffffff;stroke-linejoin:miter;\"/>\n   </g>\n   <g id=\"patch_39\">\n    <path clip-path=\"url(#p5cb00b8006)\" d=\"M 494.182951 442.08 \nL 505.563816 442.08 \nL 505.563816 428.719631 \nL 494.182951 428.719631 \nz\n\" style=\"fill:#8172b3;opacity:0.4;stroke:#ffffff;stroke-linejoin:miter;\"/>\n   </g>\n   <g id=\"patch_40\">\n    <path clip-path=\"url(#p5cb00b8006)\" d=\"M 505.563816 442.08 \nL 516.944681 442.08 \nL 516.944681 437.626544 \nL 505.563816 437.626544 \nz\n\" style=\"fill:#8172b3;opacity:0.4;stroke:#ffffff;stroke-linejoin:miter;\"/>\n   </g>\n   <g id=\"patch_41\">\n    <path clip-path=\"url(#p5cb00b8006)\" d=\"M 516.944681 442.08 \nL 528.325546 442.08 \nL 528.325546 442.08 \nL 516.944681 442.08 \nz\n\" style=\"fill:#8172b3;opacity:0.4;stroke:#ffffff;stroke-linejoin:miter;\"/>\n   </g>\n   <g id=\"patch_42\">\n    <path clip-path=\"url(#p5cb00b8006)\" d=\"M 528.325546 442.08 \nL 539.706411 442.08 \nL 539.706411 437.626544 \nL 528.325546 437.626544 \nz\n\" style=\"fill:#8172b3;opacity:0.4;stroke:#ffffff;stroke-linejoin:miter;\"/>\n   </g>\n   <g id=\"patch_43\">\n    <path clip-path=\"url(#p5cb00b8006)\" d=\"M 539.706411 442.08 \nL 551.087276 442.08 \nL 551.087276 442.08 \nL 539.706411 442.08 \nz\n\" style=\"fill:#8172b3;opacity:0.4;stroke:#ffffff;stroke-linejoin:miter;\"/>\n   </g>\n   <g id=\"patch_44\">\n    <path clip-path=\"url(#p5cb00b8006)\" d=\"M 551.087276 442.08 \nL 562.468141 442.08 \nL 562.468141 442.08 \nL 551.087276 442.08 \nz\n\" style=\"fill:#8172b3;opacity:0.4;stroke:#ffffff;stroke-linejoin:miter;\"/>\n   </g>\n   <g id=\"patch_45\">\n    <path clip-path=\"url(#p5cb00b8006)\" d=\"M 562.468141 442.08 \nL 573.849006 442.08 \nL 573.849006 437.626544 \nL 562.468141 437.626544 \nz\n\" style=\"fill:#8172b3;opacity:0.4;stroke:#ffffff;stroke-linejoin:miter;\"/>\n   </g>\n   <g id=\"patch_46\">\n    <path clip-path=\"url(#p5cb00b8006)\" d=\"M 573.849006 442.08 \nL 585.22987 442.08 \nL 585.22987 442.08 \nL 573.849006 442.08 \nz\n\" style=\"fill:#8172b3;opacity:0.4;stroke:#ffffff;stroke-linejoin:miter;\"/>\n   </g>\n   <g id=\"patch_47\">\n    <path clip-path=\"url(#p5cb00b8006)\" d=\"M 585.22987 442.08 \nL 596.610735 442.08 \nL 596.610735 442.08 \nL 585.22987 442.08 \nz\n\" style=\"fill:#8172b3;opacity:0.4;stroke:#ffffff;stroke-linejoin:miter;\"/>\n   </g>\n   <g id=\"patch_48\">\n    <path clip-path=\"url(#p5cb00b8006)\" d=\"M 596.610735 442.08 \nL 607.9916 442.08 \nL 607.9916 437.626544 \nL 596.610735 437.626544 \nz\n\" style=\"fill:#8172b3;opacity:0.4;stroke:#ffffff;stroke-linejoin:miter;\"/>\n   </g>\n   <g id=\"patch_49\">\n    <path clip-path=\"url(#p5cb00b8006)\" d=\"M 607.9916 442.08 \nL 619.372465 442.08 \nL 619.372465 442.08 \nL 607.9916 442.08 \nz\n\" style=\"fill:#8172b3;opacity:0.4;stroke:#ffffff;stroke-linejoin:miter;\"/>\n   </g>\n   <g id=\"patch_50\">\n    <path clip-path=\"url(#p5cb00b8006)\" d=\"M 619.372465 442.08 \nL 630.75333 442.08 \nL 630.75333 442.08 \nL 619.372465 442.08 \nz\n\" style=\"fill:#8172b3;opacity:0.4;stroke:#ffffff;stroke-linejoin:miter;\"/>\n   </g>\n   <g id=\"patch_51\">\n    <path clip-path=\"url(#p5cb00b8006)\" d=\"M 630.75333 442.08 \nL 642.134195 442.08 \nL 642.134195 442.08 \nL 630.75333 442.08 \nz\n\" style=\"fill:#8172b3;opacity:0.4;stroke:#ffffff;stroke-linejoin:miter;\"/>\n   </g>\n   <g id=\"patch_52\">\n    <path clip-path=\"url(#p5cb00b8006)\" d=\"M 642.134195 442.08 \nL 653.51506 442.08 \nL 653.51506 437.626544 \nL 642.134195 437.626544 \nz\n\" style=\"fill:#8172b3;opacity:0.4;stroke:#ffffff;stroke-linejoin:miter;\"/>\n   </g>\n   <g id=\"line2d_11\">\n    <path clip-path=\"url(#p5cb00b8006)\" d=\"M 64.629801 442.039813 \nL 69.422929 441.80279 \nL 74.216057 440.840614 \nL 83.802314 436.530645 \nL 88.595442 436.476737 \nL 98.181698 440.788686 \nL 102.974826 441.78815 \nL 107.767954 442.040473 \nL 126.940467 442.08 \nL 155.699236 442.026134 \nL 160.492364 441.693609 \nL 165.285492 440.449002 \nL 170.07862 438.018547 \nL 174.871748 436.121647 \nL 179.664876 436.850947 \nL 184.458004 439.088299 \nL 189.251133 440.089675 \nL 194.044261 438.856352 \nL 198.837389 436.73031 \nL 203.630517 435.884245 \nL 208.423645 436.611719 \nL 218.009901 438.793773 \nL 222.803029 440.084929 \nL 227.596158 440.4478 \nL 232.389286 438.540513 \nL 237.182414 434.430096 \nL 241.975542 430.896865 \nL 246.76867 430.892512 \nL 251.561798 433.182446 \nL 256.354926 434.773346 \nL 261.148055 435.053698 \nL 265.941183 434.188547 \nL 275.527439 430.1929 \nL 280.320567 428.893153 \nL 285.113695 425.95132 \nL 289.906823 421.267441 \nL 294.699951 420.401063 \nL 299.49308 424.671572 \nL 304.286208 426.144849 \nL 309.079336 419.574247 \nL 313.872464 409.705773 \nL 318.665592 403.551901 \nL 323.45872 400.616561 \nL 328.251848 395.569497 \nL 333.044977 385.977897 \nL 337.838105 368.693885 \nL 342.631233 328.646227 \nL 347.424361 250.092192 \nL 352.217489 165.902361 \nL 357.010617 156.723786 \nL 361.803745 237.717143 \nL 366.596873 328.102707 \nL 371.390002 374.886893 \nL 376.18313 390.079672 \nL 380.976258 394.21721 \nL 385.769386 396.778301 \nL 390.562514 401.983805 \nL 395.355642 408.926488 \nL 400.14877 414.291161 \nL 409.735027 422.087232 \nL 414.528155 423.837956 \nL 419.321283 422.949482 \nL 424.114411 423.436381 \nL 428.907539 426.167711 \nL 433.700667 427.695171 \nL 438.493795 427.901237 \nL 443.286924 429.914622 \nL 448.080052 433.834151 \nL 452.87318 436.867913 \nL 457.666308 438.311585 \nL 462.459436 438.863326 \nL 467.252564 438.234298 \nL 472.045692 436.767983 \nL 476.83882 435.556412 \nL 481.631949 434.967254 \nL 486.425077 434.752372 \nL 491.218205 434.15156 \nL 496.011333 433.051348 \nL 500.804461 432.56105 \nL 505.597589 433.77518 \nL 515.183846 439.819459 \nL 519.976974 441.41634 \nL 524.770102 441.669671 \nL 529.56323 440.952536 \nL 534.356358 439.631335 \nL 539.149486 438.950226 \nL 543.942614 439.773855 \nL 548.735742 441.001538 \nL 553.528871 441.301361 \nL 558.321999 440.500783 \nL 563.115127 439.379843 \nL 567.908255 439.200799 \nL 577.494511 441.332241 \nL 582.287639 441.716379 \nL 587.080767 441.228286 \nL 591.873896 440.023498 \nL 596.667024 439.088299 \nL 601.460152 439.495302 \nL 606.25328 440.728221 \nL 611.046408 441.643401 \nL 615.839536 441.992501 \nL 625.425793 442.078778 \nL 635.012049 442.014824 \nL 639.805177 441.723693 \nL 644.598305 440.871907 \nL 649.391433 439.578632 \nL 654.184561 439.005057 \nL 658.977689 439.881735 \nL 663.770818 441.170947 \nL 668.563946 441.860572 \nL 673.357074 442.046098 \nL 673.357074 442.046098 \n\" style=\"fill:none;stroke:#8172b3;stroke-linecap:round;stroke-width:1.5;\"/>\n   </g>\n   <g id=\"patch_53\">\n    <path d=\"M 34.193438 442.08 \nL 34.193438 7.2 \n\" style=\"fill:none;stroke:#ffffff;stroke-linecap:square;stroke-linejoin:miter;stroke-width:1.25;\"/>\n   </g>\n   <g id=\"patch_54\">\n    <path d=\"M 703.793437 442.08 \nL 703.793437 7.2 \n\" style=\"fill:none;stroke:#ffffff;stroke-linecap:square;stroke-linejoin:miter;stroke-width:1.25;\"/>\n   </g>\n   <g id=\"patch_55\">\n    <path d=\"M 34.193437 442.08 \nL 703.793437 442.08 \n\" style=\"fill:none;stroke:#ffffff;stroke-linecap:square;stroke-linejoin:miter;stroke-width:1.25;\"/>\n   </g>\n   <g id=\"patch_56\">\n    <path d=\"M 34.193437 7.2 \nL 703.793437 7.2 \n\" style=\"fill:none;stroke:#ffffff;stroke-linecap:square;stroke-linejoin:miter;stroke-width:1.25;\"/>\n   </g>\n  </g>\n </g>\n <defs>\n  <clipPath id=\"p5cb00b8006\">\n   <rect height=\"434.88\" width=\"669.6\" x=\"34.193438\" y=\"7.2\"/>\n  </clipPath>\n </defs>\n</svg>\n",
      "image/png": "[encoded data removed]"
     },
     "metadata": {}
    }
   ],
   "source": [
    "#Visualização utilizando histograma:\n",
    "sns.distplot(countries['Net_migration'], color='m');"
   ]
  },
  {
   "cell_type": "code",
   "execution_count": 18,
   "metadata": {},
   "outputs": [
    {
     "output_type": "display_data",
     "data": {
      "text/plain": "<Figure size 864x576 with 1 Axes>",
      "image/svg+xml": "<?xml version=\"1.0\" encoding=\"utf-8\" standalone=\"no\"?>\n<!DOCTYPE svg PUBLIC \"-//W3C//DTD SVG 1.1//EN\"\n  \"http://www.w3.org/Graphics/SVG/1.1/DTD/svg11.dtd\">\n<!-- Created with matplotlib (https://matplotlib.org/) -->\n<svg height=\"449.28pt\" version=\"1.1\" viewBox=\"0 0 732.662656 449.28\" width=\"732.662656pt\" xmlns=\"http://www.w3.org/2000/svg\" xmlns:xlink=\"http://www.w3.org/1999/xlink\">\n <defs>\n  <style type=\"text/css\">\n*{stroke-linecap:butt;stroke-linejoin:round;}\n  </style>\n </defs>\n <g id=\"figure_1\">\n  <g id=\"patch_1\">\n   <path d=\"M 0 449.28 \nL 732.662656 449.28 \nL 732.662656 0 \nL 0 0 \nz\n\" style=\"fill:#ffffff;\"/>\n  </g>\n  <g id=\"axes_1\">\n   <g id=\"patch_2\">\n    <path d=\"M 55.862656 442.08 \nL 725.462656 442.08 \nL 725.462656 7.2 \nL 55.862656 7.2 \nz\n\" style=\"fill:#eaeaf2;\"/>\n   </g>\n   <g id=\"matplotlib.axis_1\">\n    <g id=\"xtick_1\"/>\n   </g>\n   <g id=\"matplotlib.axis_2\">\n    <g id=\"ytick_1\">\n     <g id=\"line2d_1\">\n      <path clip-path=\"url(#pc8ed0b1db2)\" d=\"M 55.862656 413.427551 \nL 725.462656 413.427551 \n\" style=\"fill:none;stroke:#ffffff;stroke-linecap:round;\"/>\n     </g>\n     <g id=\"text_1\">\n      <!-- −20 -->\n      <defs>\n       <path d=\"M 10.59375 35.5 \nL 73.1875 35.5 \nL 73.1875 27.203125 \nL 10.59375 27.203125 \nz\n\" id=\"DejaVuSans-8722\"/>\n       <path d=\"M 19.1875 8.296875 \nL 53.609375 8.296875 \nL 53.609375 0 \nL 7.328125 0 \nL 7.328125 8.296875 \nQ 12.9375 14.109375 22.625 23.890625 \nQ 32.328125 33.6875 34.8125 36.53125 \nQ 39.546875 41.84375 41.421875 45.53125 \nQ 43.3125 49.21875 43.3125 52.78125 \nQ 43.3125 58.59375 39.234375 62.25 \nQ 35.15625 65.921875 28.609375 65.921875 \nQ 23.96875 65.921875 18.8125 64.3125 \nQ 13.671875 62.703125 7.8125 59.421875 \nL 7.8125 69.390625 \nQ 13.765625 71.78125 18.9375 73 \nQ 24.125 74.21875 28.421875 74.21875 \nQ 39.75 74.21875 46.484375 68.546875 \nQ 53.21875 62.890625 53.21875 53.421875 \nQ 53.21875 48.921875 51.53125 44.890625 \nQ 49.859375 40.875 45.40625 35.40625 \nQ 44.1875 33.984375 37.640625 27.21875 \nQ 31.109375 20.453125 19.1875 8.296875 \nz\n\" id=\"DejaVuSans-50\"/>\n       <path d=\"M 31.78125 66.40625 \nQ 24.171875 66.40625 20.328125 58.90625 \nQ 16.5 51.421875 16.5 36.375 \nQ 16.5 21.390625 20.328125 13.890625 \nQ 24.171875 6.390625 31.78125 6.390625 \nQ 39.453125 6.390625 43.28125 13.890625 \nQ 47.125 21.390625 47.125 36.375 \nQ 47.125 51.421875 43.28125 58.90625 \nQ 39.453125 66.40625 31.78125 66.40625 \nz\nM 31.78125 74.21875 \nQ 44.046875 74.21875 50.515625 64.515625 \nQ 56.984375 54.828125 56.984375 36.375 \nQ 56.984375 17.96875 50.515625 8.265625 \nQ 44.046875 -1.421875 31.78125 -1.421875 \nQ 19.53125 -1.421875 13.0625 8.265625 \nQ 6.59375 17.96875 6.59375 36.375 \nQ 6.59375 54.828125 13.0625 64.515625 \nQ 19.53125 74.21875 31.78125 74.21875 \nz\n\" id=\"DejaVuSans-48\"/>\n      </defs>\n      <g style=\"fill:#262626;\" transform=\"translate(23.1475 417.606692)scale(0.11 -0.11)\">\n       <use xlink:href=\"#DejaVuSans-8722\"/>\n       <use x=\"83.789062\" xlink:href=\"#DejaVuSans-50\"/>\n       <use x=\"147.412109\" xlink:href=\"#DejaVuSans-48\"/>\n      </g>\n     </g>\n    </g>\n    <g id=\"ytick_2\">\n     <g id=\"line2d_2\">\n      <path clip-path=\"url(#pc8ed0b1db2)\" d=\"M 55.862656 323.678299 \nL 725.462656 323.678299 \n\" style=\"fill:none;stroke:#ffffff;stroke-linecap:round;\"/>\n     </g>\n     <g id=\"text_2\">\n      <!-- −10 -->\n      <defs>\n       <path d=\"M 12.40625 8.296875 \nL 28.515625 8.296875 \nL 28.515625 63.921875 \nL 10.984375 60.40625 \nL 10.984375 69.390625 \nL 28.421875 72.90625 \nL 38.28125 72.90625 \nL 38.28125 8.296875 \nL 54.390625 8.296875 \nL 54.390625 0 \nL 12.40625 0 \nz\n\" id=\"DejaVuSans-49\"/>\n      </defs>\n      <g style=\"fill:#262626;\" transform=\"translate(23.1475 327.85744)scale(0.11 -0.11)\">\n       <use xlink:href=\"#DejaVuSans-8722\"/>\n       <use x=\"83.789062\" xlink:href=\"#DejaVuSans-49\"/>\n       <use x=\"147.412109\" xlink:href=\"#DejaVuSans-48\"/>\n      </g>\n     </g>\n    </g>\n    <g id=\"ytick_3\">\n     <g id=\"line2d_3\">\n      <path clip-path=\"url(#pc8ed0b1db2)\" d=\"M 55.862656 233.929048 \nL 725.462656 233.929048 \n\" style=\"fill:none;stroke:#ffffff;stroke-linecap:round;\"/>\n     </g>\n     <g id=\"text_3\">\n      <!-- 0 -->\n      <g style=\"fill:#262626;\" transform=\"translate(39.363906 238.108188)scale(0.11 -0.11)\">\n       <use xlink:href=\"#DejaVuSans-48\"/>\n      </g>\n     </g>\n    </g>\n    <g id=\"ytick_4\">\n     <g id=\"line2d_4\">\n      <path clip-path=\"url(#pc8ed0b1db2)\" d=\"M 55.862656 144.179796 \nL 725.462656 144.179796 \n\" style=\"fill:none;stroke:#ffffff;stroke-linecap:round;\"/>\n     </g>\n     <g id=\"text_4\">\n      <!-- 10 -->\n      <g style=\"fill:#262626;\" transform=\"translate(32.365156 148.358936)scale(0.11 -0.11)\">\n       <use xlink:href=\"#DejaVuSans-49\"/>\n       <use x=\"63.623047\" xlink:href=\"#DejaVuSans-48\"/>\n      </g>\n     </g>\n    </g>\n    <g id=\"ytick_5\">\n     <g id=\"line2d_5\">\n      <path clip-path=\"url(#pc8ed0b1db2)\" d=\"M 55.862656 54.430544 \nL 725.462656 54.430544 \n\" style=\"fill:none;stroke:#ffffff;stroke-linecap:round;\"/>\n     </g>\n     <g id=\"text_5\">\n      <!-- 20 -->\n      <g style=\"fill:#262626;\" transform=\"translate(32.365156 58.609684)scale(0.11 -0.11)\">\n       <use xlink:href=\"#DejaVuSans-50\"/>\n       <use x=\"63.623047\" xlink:href=\"#DejaVuSans-48\"/>\n      </g>\n     </g>\n    </g>\n    <g id=\"text_6\">\n     <!-- Net_migration -->\n     <defs>\n      <path d=\"M 9.8125 72.90625 \nL 23.09375 72.90625 \nL 55.421875 11.921875 \nL 55.421875 72.90625 \nL 64.984375 72.90625 \nL 64.984375 0 \nL 51.703125 0 \nL 19.390625 60.984375 \nL 19.390625 0 \nL 9.8125 0 \nz\n\" id=\"DejaVuSans-78\"/>\n      <path d=\"M 56.203125 29.59375 \nL 56.203125 25.203125 \nL 14.890625 25.203125 \nQ 15.484375 15.921875 20.484375 11.0625 \nQ 25.484375 6.203125 34.421875 6.203125 \nQ 39.59375 6.203125 44.453125 7.46875 \nQ 49.3125 8.734375 54.109375 11.28125 \nL 54.109375 2.78125 \nQ 49.265625 0.734375 44.1875 -0.34375 \nQ 39.109375 -1.421875 33.890625 -1.421875 \nQ 20.796875 -1.421875 13.15625 6.1875 \nQ 5.515625 13.8125 5.515625 26.8125 \nQ 5.515625 40.234375 12.765625 48.109375 \nQ 20.015625 56 32.328125 56 \nQ 43.359375 56 49.78125 48.890625 \nQ 56.203125 41.796875 56.203125 29.59375 \nz\nM 47.21875 32.234375 \nQ 47.125 39.59375 43.09375 43.984375 \nQ 39.0625 48.390625 32.421875 48.390625 \nQ 24.90625 48.390625 20.390625 44.140625 \nQ 15.875 39.890625 15.1875 32.171875 \nz\n\" id=\"DejaVuSans-101\"/>\n      <path d=\"M 18.3125 70.21875 \nL 18.3125 54.6875 \nL 36.8125 54.6875 \nL 36.8125 47.703125 \nL 18.3125 47.703125 \nL 18.3125 18.015625 \nQ 18.3125 11.328125 20.140625 9.421875 \nQ 21.96875 7.515625 27.59375 7.515625 \nL 36.8125 7.515625 \nL 36.8125 0 \nL 27.59375 0 \nQ 17.1875 0 13.234375 3.875 \nQ 9.28125 7.765625 9.28125 18.015625 \nL 9.28125 47.703125 \nL 2.6875 47.703125 \nL 2.6875 54.6875 \nL 9.28125 54.6875 \nL 9.28125 70.21875 \nz\n\" id=\"DejaVuSans-116\"/>\n      <path d=\"M 50.984375 -16.609375 \nL 50.984375 -23.578125 \nL -0.984375 -23.578125 \nL -0.984375 -16.609375 \nz\n\" id=\"DejaVuSans-95\"/>\n      <path d=\"M 52 44.1875 \nQ 55.375 50.25 60.0625 53.125 \nQ 64.75 56 71.09375 56 \nQ 79.640625 56 84.28125 50.015625 \nQ 88.921875 44.046875 88.921875 33.015625 \nL 88.921875 0 \nL 79.890625 0 \nL 79.890625 32.71875 \nQ 79.890625 40.578125 77.09375 44.375 \nQ 74.3125 48.1875 68.609375 48.1875 \nQ 61.625 48.1875 57.5625 43.546875 \nQ 53.515625 38.921875 53.515625 30.90625 \nL 53.515625 0 \nL 44.484375 0 \nL 44.484375 32.71875 \nQ 44.484375 40.625 41.703125 44.40625 \nQ 38.921875 48.1875 33.109375 48.1875 \nQ 26.21875 48.1875 22.15625 43.53125 \nQ 18.109375 38.875 18.109375 30.90625 \nL 18.109375 0 \nL 9.078125 0 \nL 9.078125 54.6875 \nL 18.109375 54.6875 \nL 18.109375 46.1875 \nQ 21.1875 51.21875 25.484375 53.609375 \nQ 29.78125 56 35.6875 56 \nQ 41.65625 56 45.828125 52.96875 \nQ 50 49.953125 52 44.1875 \nz\n\" id=\"DejaVuSans-109\"/>\n      <path d=\"M 9.421875 54.6875 \nL 18.40625 54.6875 \nL 18.40625 0 \nL 9.421875 0 \nz\nM 9.421875 75.984375 \nL 18.40625 75.984375 \nL 18.40625 64.59375 \nL 9.421875 64.59375 \nz\n\" id=\"DejaVuSans-105\"/>\n      <path d=\"M 45.40625 27.984375 \nQ 45.40625 37.75 41.375 43.109375 \nQ 37.359375 48.484375 30.078125 48.484375 \nQ 22.859375 48.484375 18.828125 43.109375 \nQ 14.796875 37.75 14.796875 27.984375 \nQ 14.796875 18.265625 18.828125 12.890625 \nQ 22.859375 7.515625 30.078125 7.515625 \nQ 37.359375 7.515625 41.375 12.890625 \nQ 45.40625 18.265625 45.40625 27.984375 \nz\nM 54.390625 6.78125 \nQ 54.390625 -7.171875 48.1875 -13.984375 \nQ 42 -20.796875 29.203125 -20.796875 \nQ 24.46875 -20.796875 20.265625 -20.09375 \nQ 16.0625 -19.390625 12.109375 -17.921875 \nL 12.109375 -9.1875 \nQ 16.0625 -11.328125 19.921875 -12.34375 \nQ 23.78125 -13.375 27.78125 -13.375 \nQ 36.625 -13.375 41.015625 -8.765625 \nQ 45.40625 -4.15625 45.40625 5.171875 \nL 45.40625 9.625 \nQ 42.625 4.78125 38.28125 2.390625 \nQ 33.9375 0 27.875 0 \nQ 17.828125 0 11.671875 7.65625 \nQ 5.515625 15.328125 5.515625 27.984375 \nQ 5.515625 40.671875 11.671875 48.328125 \nQ 17.828125 56 27.875 56 \nQ 33.9375 56 38.28125 53.609375 \nQ 42.625 51.21875 45.40625 46.390625 \nL 45.40625 54.6875 \nL 54.390625 54.6875 \nz\n\" id=\"DejaVuSans-103\"/>\n      <path d=\"M 41.109375 46.296875 \nQ 39.59375 47.171875 37.8125 47.578125 \nQ 36.03125 48 33.890625 48 \nQ 26.265625 48 22.1875 43.046875 \nQ 18.109375 38.09375 18.109375 28.8125 \nL 18.109375 0 \nL 9.078125 0 \nL 9.078125 54.6875 \nL 18.109375 54.6875 \nL 18.109375 46.1875 \nQ 20.953125 51.171875 25.484375 53.578125 \nQ 30.03125 56 36.53125 56 \nQ 37.453125 56 38.578125 55.875 \nQ 39.703125 55.765625 41.0625 55.515625 \nz\n\" id=\"DejaVuSans-114\"/>\n      <path d=\"M 34.28125 27.484375 \nQ 23.390625 27.484375 19.1875 25 \nQ 14.984375 22.515625 14.984375 16.5 \nQ 14.984375 11.71875 18.140625 8.90625 \nQ 21.296875 6.109375 26.703125 6.109375 \nQ 34.1875 6.109375 38.703125 11.40625 \nQ 43.21875 16.703125 43.21875 25.484375 \nL 43.21875 27.484375 \nz\nM 52.203125 31.203125 \nL 52.203125 0 \nL 43.21875 0 \nL 43.21875 8.296875 \nQ 40.140625 3.328125 35.546875 0.953125 \nQ 30.953125 -1.421875 24.3125 -1.421875 \nQ 15.921875 -1.421875 10.953125 3.296875 \nQ 6 8.015625 6 15.921875 \nQ 6 25.140625 12.171875 29.828125 \nQ 18.359375 34.515625 30.609375 34.515625 \nL 43.21875 34.515625 \nL 43.21875 35.40625 \nQ 43.21875 41.609375 39.140625 45 \nQ 35.0625 48.390625 27.6875 48.390625 \nQ 23 48.390625 18.546875 47.265625 \nQ 14.109375 46.140625 10.015625 43.890625 \nL 10.015625 52.203125 \nQ 14.9375 54.109375 19.578125 55.046875 \nQ 24.21875 56 28.609375 56 \nQ 40.484375 56 46.34375 49.84375 \nQ 52.203125 43.703125 52.203125 31.203125 \nz\n\" id=\"DejaVuSans-97\"/>\n      <path d=\"M 30.609375 48.390625 \nQ 23.390625 48.390625 19.1875 42.75 \nQ 14.984375 37.109375 14.984375 27.296875 \nQ 14.984375 17.484375 19.15625 11.84375 \nQ 23.34375 6.203125 30.609375 6.203125 \nQ 37.796875 6.203125 41.984375 11.859375 \nQ 46.1875 17.53125 46.1875 27.296875 \nQ 46.1875 37.015625 41.984375 42.703125 \nQ 37.796875 48.390625 30.609375 48.390625 \nz\nM 30.609375 56 \nQ 42.328125 56 49.015625 48.375 \nQ 55.71875 40.765625 55.71875 27.296875 \nQ 55.71875 13.875 49.015625 6.21875 \nQ 42.328125 -1.421875 30.609375 -1.421875 \nQ 18.84375 -1.421875 12.171875 6.21875 \nQ 5.515625 13.875 5.515625 27.296875 \nQ 5.515625 40.765625 12.171875 48.375 \nQ 18.84375 56 30.609375 56 \nz\n\" id=\"DejaVuSans-111\"/>\n      <path d=\"M 54.890625 33.015625 \nL 54.890625 0 \nL 45.90625 0 \nL 45.90625 32.71875 \nQ 45.90625 40.484375 42.875 44.328125 \nQ 39.84375 48.1875 33.796875 48.1875 \nQ 26.515625 48.1875 22.3125 43.546875 \nQ 18.109375 38.921875 18.109375 30.90625 \nL 18.109375 0 \nL 9.078125 0 \nL 9.078125 54.6875 \nL 18.109375 54.6875 \nL 18.109375 46.1875 \nQ 21.34375 51.125 25.703125 53.5625 \nQ 30.078125 56 35.796875 56 \nQ 45.21875 56 50.046875 50.171875 \nQ 54.890625 44.34375 54.890625 33.015625 \nz\n\" id=\"DejaVuSans-110\"/>\n     </defs>\n     <g style=\"fill:#262626;\" transform=\"translate(16.318125 267.129375)rotate(-90)scale(0.12 -0.12)\">\n      <use xlink:href=\"#DejaVuSans-78\"/>\n      <use x=\"74.804688\" xlink:href=\"#DejaVuSans-101\"/>\n      <use x=\"136.328125\" xlink:href=\"#DejaVuSans-116\"/>\n      <use x=\"175.537109\" xlink:href=\"#DejaVuSans-95\"/>\n      <use x=\"225.537109\" xlink:href=\"#DejaVuSans-109\"/>\n      <use x=\"322.949219\" xlink:href=\"#DejaVuSans-105\"/>\n      <use x=\"350.732422\" xlink:href=\"#DejaVuSans-103\"/>\n      <use x=\"414.208984\" xlink:href=\"#DejaVuSans-114\"/>\n      <use x=\"455.322266\" xlink:href=\"#DejaVuSans-97\"/>\n      <use x=\"516.601562\" xlink:href=\"#DejaVuSans-116\"/>\n      <use x=\"555.810547\" xlink:href=\"#DejaVuSans-105\"/>\n      <use x=\"583.59375\" xlink:href=\"#DejaVuSans-111\"/>\n      <use x=\"644.775391\" xlink:href=\"#DejaVuSans-110\"/>\n     </g>\n    </g>\n   </g>\n   <g id=\"patch_3\">\n    <path clip-path=\"url(#pc8ed0b1db2)\" d=\"M 122.822656 242.253291 \nL 658.502656 242.253291 \nL 658.502656 224.97656 \nL 122.822656 224.97656 \nL 122.822656 242.253291 \nz\n\" style=\"fill:#b55d60;stroke:#525252;stroke-linejoin:miter;stroke-width:1.5;\"/>\n   </g>\n   <g id=\"line2d_6\">\n    <path clip-path=\"url(#pc8ed0b1db2)\" d=\"M 390.662656 242.253291 \nL 390.662656 267.495268 \n\" style=\"fill:none;stroke:#525252;stroke-linecap:round;stroke-width:1.5;\"/>\n   </g>\n   <g id=\"line2d_7\">\n    <path clip-path=\"url(#pc8ed0b1db2)\" d=\"M 390.662656 224.97656 \nL 390.662656 199.465335 \n\" style=\"fill:none;stroke:#525252;stroke-linecap:round;stroke-width:1.5;\"/>\n   </g>\n   <g id=\"line2d_8\">\n    <path clip-path=\"url(#pc8ed0b1db2)\" d=\"M 256.742656 267.495268 \nL 524.582656 267.495268 \n\" style=\"fill:none;stroke:#525252;stroke-linecap:round;stroke-width:1.5;\"/>\n   </g>\n   <g id=\"line2d_9\">\n    <path clip-path=\"url(#pc8ed0b1db2)\" d=\"M 256.742656 199.465335 \nL 524.582656 199.465335 \n\" style=\"fill:none;stroke:#525252;stroke-linecap:round;stroke-width:1.5;\"/>\n   </g>\n   <g id=\"line2d_10\">\n    <defs>\n     <path d=\"M -0 3.535534 \nL 2.12132 0 \nL -0 -3.535534 \nL -2.12132 -0 \nz\n\" id=\"m5570e870d2\" style=\"stroke:#525252;stroke-linejoin:miter;\"/>\n    </defs>\n    <g clip-path=\"url(#pc8ed0b1db2)\">\n     <use style=\"fill:#525252;stroke:#525252;stroke-linejoin:miter;\" x=\"390.662656\" xlink:href=\"#m5570e870d2\" y=\"278.175429\"/>\n     <use style=\"fill:#525252;stroke:#525252;stroke-linejoin:miter;\" x=\"390.662656\" xlink:href=\"#m5570e870d2\" y=\"419.799748\"/>\n     <use style=\"fill:#525252;stroke:#525252;stroke-linejoin:miter;\" x=\"390.662656\" xlink:href=\"#m5570e870d2\" y=\"289.124837\"/>\n     <use style=\"fill:#525252;stroke:#525252;stroke-linejoin:miter;\" x=\"390.662656\" xlink:href=\"#m5570e870d2\" y=\"291.996814\"/>\n     <use style=\"fill:#525252;stroke:#525252;stroke-linejoin:miter;\" x=\"390.662656\" xlink:href=\"#m5570e870d2\" y=\"277.906181\"/>\n     <use style=\"fill:#525252;stroke:#525252;stroke-linejoin:miter;\" x=\"390.662656\" xlink:href=\"#m5570e870d2\" y=\"275.034205\"/>\n     <use style=\"fill:#525252;stroke:#525252;stroke-linejoin:miter;\" x=\"390.662656\" xlink:href=\"#m5570e870d2\" y=\"342.256395\"/>\n     <use style=\"fill:#525252;stroke:#525252;stroke-linejoin:miter;\" x=\"390.662656\" xlink:href=\"#m5570e870d2\" y=\"358.41126\"/>\n     <use style=\"fill:#525252;stroke:#525252;stroke-linejoin:miter;\" x=\"390.662656\" xlink:href=\"#m5570e870d2\" y=\"310.933906\"/>\n     <use style=\"fill:#525252;stroke:#525252;stroke-linejoin:miter;\" x=\"390.662656\" xlink:href=\"#m5570e870d2\" y=\"276.111196\"/>\n     <use style=\"fill:#525252;stroke:#525252;stroke-linejoin:miter;\" x=\"390.662656\" xlink:href=\"#m5570e870d2\" y=\"309.049171\"/>\n     <use style=\"fill:#525252;stroke:#525252;stroke-linejoin:miter;\" x=\"390.662656\" xlink:href=\"#m5570e870d2\" y=\"358.860006\"/>\n     <use style=\"fill:#525252;stroke:#525252;stroke-linejoin:miter;\" x=\"390.662656\" xlink:href=\"#m5570e870d2\" y=\"278.085679\"/>\n     <use style=\"fill:#525252;stroke:#525252;stroke-linejoin:miter;\" x=\"390.662656\" xlink:href=\"#m5570e870d2\" y=\"288.137596\"/>\n     <use style=\"fill:#525252;stroke:#525252;stroke-linejoin:miter;\" x=\"390.662656\" xlink:href=\"#m5570e870d2\" y=\"277.636933\"/>\n     <use style=\"fill:#525252;stroke:#525252;stroke-linejoin:miter;\" x=\"390.662656\" xlink:href=\"#m5570e870d2\" y=\"422.312727\"/>\n     <use style=\"fill:#525252;stroke:#525252;stroke-linejoin:miter;\" x=\"390.662656\" xlink:href=\"#m5570e870d2\" y=\"297.740766\"/>\n     <use style=\"fill:#525252;stroke:#525252;stroke-linejoin:miter;\" x=\"390.662656\" xlink:href=\"#m5570e870d2\" y=\"277.547184\"/>\n     <use style=\"fill:#525252;stroke:#525252;stroke-linejoin:miter;\" x=\"390.662656\" xlink:href=\"#m5570e870d2\" y=\"302.497476\"/>\n     <use style=\"fill:#525252;stroke:#525252;stroke-linejoin:miter;\" x=\"390.662656\" xlink:href=\"#m5570e870d2\" y=\"338.935672\"/>\n     <use style=\"fill:#525252;stroke:#525252;stroke-linejoin:miter;\" x=\"390.662656\" xlink:href=\"#m5570e870d2\" y=\"284.996372\"/>\n     <use style=\"fill:#525252;stroke:#525252;stroke-linejoin:miter;\" x=\"390.662656\" xlink:href=\"#m5570e870d2\" y=\"312.998138\"/>\n     <use style=\"fill:#525252;stroke:#525252;stroke-linejoin:miter;\" x=\"390.662656\" xlink:href=\"#m5570e870d2\" y=\"331.127487\"/>\n     <use style=\"fill:#525252;stroke:#525252;stroke-linejoin:miter;\" x=\"390.662656\" xlink:href=\"#m5570e870d2\" y=\"314.164879\"/>\n     <use style=\"fill:#525252;stroke:#525252;stroke-linejoin:miter;\" x=\"390.662656\" xlink:href=\"#m5570e870d2\" y=\"26.967273\"/>\n     <use style=\"fill:#525252;stroke:#525252;stroke-linejoin:miter;\" x=\"390.662656\" xlink:href=\"#m5570e870d2\" y=\"174.694541\"/>\n     <use style=\"fill:#525252;stroke:#525252;stroke-linejoin:miter;\" x=\"390.662656\" xlink:href=\"#m5570e870d2\" y=\"137.358853\"/>\n     <use style=\"fill:#525252;stroke:#525252;stroke-linejoin:miter;\" x=\"390.662656\" xlink:href=\"#m5570e870d2\" y=\"198.208845\"/>\n     <use style=\"fill:#525252;stroke:#525252;stroke-linejoin:miter;\" x=\"390.662656\" xlink:href=\"#m5570e870d2\" y=\"144.090046\"/>\n     <use style=\"fill:#525252;stroke:#525252;stroke-linejoin:miter;\" x=\"390.662656\" xlink:href=\"#m5570e870d2\" y=\"180.438493\"/>\n     <use style=\"fill:#525252;stroke:#525252;stroke-linejoin:miter;\" x=\"390.662656\" xlink:href=\"#m5570e870d2\" y=\"65.6492\"/>\n     <use style=\"fill:#525252;stroke:#525252;stroke-linejoin:miter;\" x=\"390.662656\" xlink:href=\"#m5570e870d2\" y=\"177.656267\"/>\n     <use style=\"fill:#525252;stroke:#525252;stroke-linejoin:miter;\" x=\"390.662656\" xlink:href=\"#m5570e870d2\" y=\"186.90044\"/>\n     <use style=\"fill:#525252;stroke:#525252;stroke-linejoin:miter;\" x=\"390.662656\" xlink:href=\"#m5570e870d2\" y=\"189.144171\"/>\n     <use style=\"fill:#525252;stroke:#525252;stroke-linejoin:miter;\" x=\"390.662656\" xlink:href=\"#m5570e870d2\" y=\"185.823449\"/>\n     <use style=\"fill:#525252;stroke:#525252;stroke-linejoin:miter;\" x=\"390.662656\" xlink:href=\"#m5570e870d2\" y=\"174.784291\"/>\n     <use style=\"fill:#525252;stroke:#525252;stroke-linejoin:miter;\" x=\"390.662656\" xlink:href=\"#m5570e870d2\" y=\"106.664608\"/>\n     <use style=\"fill:#525252;stroke:#525252;stroke-linejoin:miter;\" x=\"390.662656\" xlink:href=\"#m5570e870d2\" y=\"190.40066\"/>\n     <use style=\"fill:#525252;stroke:#525252;stroke-linejoin:miter;\" x=\"390.662656\" xlink:href=\"#m5570e870d2\" y=\"153.423969\"/>\n     <use style=\"fill:#525252;stroke:#525252;stroke-linejoin:miter;\" x=\"390.662656\" xlink:href=\"#m5570e870d2\" y=\"190.310911\"/>\n     <use style=\"fill:#525252;stroke:#525252;stroke-linejoin:miter;\" x=\"390.662656\" xlink:href=\"#m5570e870d2\" y=\"173.079055\"/>\n     <use style=\"fill:#525252;stroke:#525252;stroke-linejoin:miter;\" x=\"390.662656\" xlink:href=\"#m5570e870d2\" y=\"164.373377\"/>\n     <use style=\"fill:#525252;stroke:#525252;stroke-linejoin:miter;\" x=\"390.662656\" xlink:href=\"#m5570e870d2\" y=\"197.580601\"/>\n     <use style=\"fill:#525252;stroke:#525252;stroke-linejoin:miter;\" x=\"390.662656\" xlink:href=\"#m5570e870d2\" y=\"147.680017\"/>\n     <use style=\"fill:#525252;stroke:#525252;stroke-linejoin:miter;\" x=\"390.662656\" xlink:href=\"#m5570e870d2\" y=\"87.727516\"/>\n     <use style=\"fill:#525252;stroke:#525252;stroke-linejoin:miter;\" x=\"390.662656\" xlink:href=\"#m5570e870d2\" y=\"135.384369\"/>\n     <use style=\"fill:#525252;stroke:#525252;stroke-linejoin:miter;\" x=\"390.662656\" xlink:href=\"#m5570e870d2\" y=\"130.44816\"/>\n     <use style=\"fill:#525252;stroke:#525252;stroke-linejoin:miter;\" x=\"390.662656\" xlink:href=\"#m5570e870d2\" y=\"185.733699\"/>\n     <use style=\"fill:#525252;stroke:#525252;stroke-linejoin:miter;\" x=\"390.662656\" xlink:href=\"#m5570e870d2\" y=\"197.580601\"/>\n     <use style=\"fill:#525252;stroke:#525252;stroke-linejoin:miter;\" x=\"390.662656\" xlink:href=\"#m5570e870d2\" y=\"129.101921\"/>\n    </g>\n   </g>\n   <g id=\"line2d_11\">\n    <path clip-path=\"url(#pc8ed0b1db2)\" d=\"M 122.822656 233.929048 \nL 658.502656 233.929048 \n\" style=\"fill:none;stroke:#525252;stroke-linecap:round;stroke-width:1.5;\"/>\n   </g>\n   <g id=\"patch_4\">\n    <path d=\"M 55.862656 442.08 \nL 55.862656 7.2 \n\" style=\"fill:none;stroke:#ffffff;stroke-linecap:square;stroke-linejoin:miter;stroke-width:1.25;\"/>\n   </g>\n   <g id=\"patch_5\">\n    <path d=\"M 725.462656 442.08 \nL 725.462656 7.2 \n\" style=\"fill:none;stroke:#ffffff;stroke-linecap:square;stroke-linejoin:miter;stroke-width:1.25;\"/>\n   </g>\n   <g id=\"patch_6\">\n    <path d=\"M 55.862656 442.08 \nL 725.462656 442.08 \n\" style=\"fill:none;stroke:#ffffff;stroke-linecap:square;stroke-linejoin:miter;stroke-width:1.25;\"/>\n   </g>\n   <g id=\"patch_7\">\n    <path d=\"M 55.862656 7.2 \nL 725.462656 7.2 \n\" style=\"fill:none;stroke:#ffffff;stroke-linecap:square;stroke-linejoin:miter;stroke-width:1.25;\"/>\n   </g>\n  </g>\n </g>\n <defs>\n  <clipPath id=\"pc8ed0b1db2\">\n   <rect height=\"434.88\" width=\"669.6\" x=\"55.862656\" y=\"7.2\"/>\n  </clipPath>\n </defs>\n</svg>\n",
      "image/png": "[encoded data removed]"
     },
     "metadata": {}
    }
   ],
   "source": [
    "#Visualização utilizando boxplot:\n",
    "ax = sns.boxplot(countries['Net_migration'], orient='vertical',color='r');"
   ]
  },
  {
   "cell_type": "markdown",
   "metadata": {},
   "source": [
    "Temos algumas opções para tratar os outliers:\n",
    "\n",
    "* Podemos eliminá-los da nossa amostra;\n",
    "* Podemos analisá-los de forma separada,\n",
    "* Podemos realizar alguma transformação matemática para reduzir a variação dos dados."
   ]
  },
  {
   "cell_type": "markdown",
   "metadata": {},
   "source": [
    "* O intervalo interquartil é uma medida de dispersão utilizada em estatística descritiva. Seu cálculo se da pela subtração do 3° quartil pelo 1° quartil. \n",
    "\n",
    "* POdemos considerar como outliers os valores menores que ```Q1-1,5*IQR``` ou valores maiores que ```Q3+1,5*IQR```."
   ]
  },
  {
   "cell_type": "markdown",
   "metadata": {},
   "source": [
    "## Questão 6\n",
    "Para as questões 6 e 7 utilize a biblioteca `fetch_20newsgroups` de datasets de test do `sklearn`\n",
    "\n",
    "Considere carregar as seguintes categorias e o dataset `newsgroups`:\n",
    "\n",
    "```\n",
    "categories = ['sci.electronics', 'comp.graphics', 'rec.motorcycles']\n",
    "newsgroup = fetch_20newsgroups(subset=\"train\", categories=categories, shuffle=True, random_state=42)\n",
    "```\n",
    "\n",
    "\n",
    "Aplique `CountVectorizer` ao _data set_ `newsgroups` e descubra o número de vezes que a palavra _phone_ aparece no corpus. Responda como um único escalar."
   ]
  },
  {
   "cell_type": "code",
   "execution_count": 19,
   "metadata": {},
   "outputs": [],
   "source": [
    "# Carregando as categorias e o dataset newsgroups:\n",
    "categories = ['sci.electronics', 'comp.graphics', 'rec.motorcycles']\n",
    "newsgroup = fetch_20newsgroups(subset='train', categories=categories, shuffle=True, random_state=1991)"
   ]
  },
  {
   "cell_type": "code",
   "execution_count": 20,
   "metadata": {},
   "outputs": [
    {
     "output_type": "execute_result",
     "data": {
      "text/plain": "213"
     },
     "metadata": {},
     "execution_count": 20
    }
   ],
   "source": [
    "def q6():\n",
    "    \"\"\"Counting the no of times each word(Unigram) appear in document.\"\"\"\n",
    "\n",
    "    # Iniciando o CountVectorizer:\n",
    "    count_vectorizer = CountVectorizer()\n",
    "\n",
    "    # Ajustando e transformando os dados:\n",
    "    newsgroups_counts = count_vectorizer.fit_transform(newsgroup.data)\n",
    "\n",
    "    # Número de vezes que a palavra phone aparece no corpus:\n",
    "    return int(newsgroups_counts[:, count_vectorizer.vocabulary_['phone']].sum())\n",
    "q6()"
   ]
  },
  {
   "cell_type": "markdown",
   "metadata": {},
   "source": [
    "O **CountVectorizer** converter uma coleção de documentos de texto em uma matriz de contagens de tokens. Se não fornecermos uma coleção a priori e não usar um analisador que faça algum tipo de seleção de recurso, o número de recursos será igual ao tamanho do vocabulário encontrado ao analisar os dados."
   ]
  },
  {
   "cell_type": "markdown",
   "metadata": {},
   "source": [
    "## Questão 7\n",
    "\n",
    "Aplique `TfidfVectorizer` ao _data set_ `newsgroups` e descubra o TF-IDF da palavra _phone_. Responda como um único escalar arredondado para três casas decimais."
   ]
  },
  {
   "cell_type": "code",
   "execution_count": 21,
   "metadata": {},
   "outputs": [
    {
     "output_type": "execute_result",
     "data": {
      "text/plain": "8.888"
     },
     "metadata": {},
     "execution_count": 21
    }
   ],
   "source": [
    "def q7():\n",
    "    \"\"\"Sorting words in a collection of documents with the TF-IDF.\"\"\"\n",
    "    # Instanciado o TfidfVectorizer:\n",
    "    tfidf_vectorizer = TfidfVectorizer()\n",
    "\n",
    "    # Ajustando e transformando os dados:\n",
    "    newsgroups_counts = tfidf_vectorizer.fit_transform(newsgroup.data)\n",
    "\n",
    "    # TF-IDF da palavra phone:\n",
    "    return np.round(float((newsgroups_counts[:, tfidf_vectorizer.vocabulary_['phone']].sum())),3)\n",
    "q7()"
   ]
  },
  {
   "cell_type": "markdown",
   "metadata": {},
   "source": [
    "O TF-IDF é usado para pontuar a importância de uma palavra em um documento com base na frequência com que ela apareceu nesse documento.\n",
    "\n",
    "* **TF =** (número de vezes que o termo aparece em um documento) / (número de termos no documento)\n",
    "\n",
    "* **IDF =** log (N / n), em que N é o número de documentos e n é o número de documentos em que um termo apareceu."
   ]
  }
 ],
 "metadata": {
  "kernelspec": {
   "display_name": "Python 3.6.10 64-bit ('code': conda)",
   "language": "python",
   "name": "python361064bitcodecondae281c7baf1844db49d28f395a9925f35"
  },
  "language_info": {
   "codemirror_mode": {
    "name": "ipython",
    "version": 3
   },
   "file_extension": ".py",
   "mimetype": "text/x-python",
   "name": "python",
   "nbconvert_exporter": "python",
   "pygments_lexer": "ipython3",
   "version": "3.7.6-final"
  }
 },
 "nbformat": 4,
 "nbformat_minor": 2
}