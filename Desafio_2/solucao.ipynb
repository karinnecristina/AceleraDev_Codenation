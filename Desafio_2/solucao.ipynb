{
 "cells": [
  {
   "cell_type": "code",
   "execution_count": 1,
   "metadata": {},
   "outputs": [],
   "source": [
    "import pandas as pd"
   ]
  },
  {
   "cell_type": "code",
   "execution_count": 2,
   "metadata": {},
   "outputs": [],
   "source": [
    "# Lendo o arquivo:\n",
    "df = pd.read_csv('desafio1.csv')"
   ]
  },
  {
   "cell_type": "code",
   "execution_count": 3,
   "metadata": {},
   "outputs": [
    {
     "output_type": "execute_result",
     "data": {
      "text/plain": "   RowNumber                                        id  \\\n0          1  e7f44fcbd380d4cef7e6c232cc7e37895c3fd197   \n1          2  28dcb083ad90512da16b9430085c2cddb8ca5e12   \n2          3  774bc378f787438c9c7594e536787d07a097a54b   \n3          4  043a71326f7096de155e7f0c559dc62b5e4b7239   \n4          5  37b3bb8ca243955fb3605ec7e1c2a4607cdb3b22   \n\n                                  sobrenome  pontuacao_credito  \\\n0  6d6e0aa1b9b413e442e2fb68df14b4fc3f91de50                619   \n1  48e1ad846796fa314f1b4a6702b83343eb5482c5                608   \n2  f2b29d5d934de615812b697132e767dea0f1e9e2                502   \n3  85d5c9da7cddd8109ad32a6c348fe2bb10bf99f2                699   \n4  ddc89c837a6933639de75f28171057060bd322df                850   \n\n  estado_residencia genero  idade  nivel_estabilidade  saldo_conta  \\\n0                SC      F     42                   2         0.00   \n1                RS      F     41                   1     83807.86   \n2                SC      F     42                   8    159660.80   \n3                SC      F     39                   1         0.00   \n4                RS      F     43                   2    125510.82   \n\n   numero_produtos  possui_cartao_de_credito  membro_ativo  \n0                1                         1             1  \n1                1                         0             1  \n2                3                         1             0  \n3                2                         0             0  \n4                1                         1             1  ",
      "text/html": "<div>\n<style scoped>\n    .dataframe tbody tr th:only-of-type {\n        vertical-align: middle;\n    }\n\n    .dataframe tbody tr th {\n        vertical-align: top;\n    }\n\n    .dataframe thead th {\n        text-align: right;\n    }\n</style>\n<table border=\"1\" class=\"dataframe\">\n  <thead>\n    <tr style=\"text-align: right;\">\n      <th></th>\n      <th>RowNumber</th>\n      <th>id</th>\n      <th>sobrenome</th>\n      <th>pontuacao_credito</th>\n      <th>estado_residencia</th>\n      <th>genero</th>\n      <th>idade</th>\n      <th>nivel_estabilidade</th>\n      <th>saldo_conta</th>\n      <th>numero_produtos</th>\n      <th>possui_cartao_de_credito</th>\n      <th>membro_ativo</th>\n    </tr>\n  </thead>\n  <tbody>\n    <tr>\n      <th>0</th>\n      <td>1</td>\n      <td>e7f44fcbd380d4cef7e6c232cc7e37895c3fd197</td>\n      <td>6d6e0aa1b9b413e442e2fb68df14b4fc3f91de50</td>\n      <td>619</td>\n      <td>SC</td>\n      <td>F</td>\n      <td>42</td>\n      <td>2</td>\n      <td>0.00</td>\n      <td>1</td>\n      <td>1</td>\n      <td>1</td>\n    </tr>\n    <tr>\n      <th>1</th>\n      <td>2</td>\n      <td>28dcb083ad90512da16b9430085c2cddb8ca5e12</td>\n      <td>48e1ad846796fa314f1b4a6702b83343eb5482c5</td>\n      <td>608</td>\n      <td>RS</td>\n      <td>F</td>\n      <td>41</td>\n      <td>1</td>\n      <td>83807.86</td>\n      <td>1</td>\n      <td>0</td>\n      <td>1</td>\n    </tr>\n    <tr>\n      <th>2</th>\n      <td>3</td>\n      <td>774bc378f787438c9c7594e536787d07a097a54b</td>\n      <td>f2b29d5d934de615812b697132e767dea0f1e9e2</td>\n      <td>502</td>\n      <td>SC</td>\n      <td>F</td>\n      <td>42</td>\n      <td>8</td>\n      <td>159660.80</td>\n      <td>3</td>\n      <td>1</td>\n      <td>0</td>\n    </tr>\n    <tr>\n      <th>3</th>\n      <td>4</td>\n      <td>043a71326f7096de155e7f0c559dc62b5e4b7239</td>\n      <td>85d5c9da7cddd8109ad32a6c348fe2bb10bf99f2</td>\n      <td>699</td>\n      <td>SC</td>\n      <td>F</td>\n      <td>39</td>\n      <td>1</td>\n      <td>0.00</td>\n      <td>2</td>\n      <td>0</td>\n      <td>0</td>\n    </tr>\n    <tr>\n      <th>4</th>\n      <td>5</td>\n      <td>37b3bb8ca243955fb3605ec7e1c2a4607cdb3b22</td>\n      <td>ddc89c837a6933639de75f28171057060bd322df</td>\n      <td>850</td>\n      <td>RS</td>\n      <td>F</td>\n      <td>43</td>\n      <td>2</td>\n      <td>125510.82</td>\n      <td>1</td>\n      <td>1</td>\n      <td>1</td>\n    </tr>\n  </tbody>\n</table>\n</div>"
     },
     "metadata": {},
     "execution_count": 3
    }
   ],
   "source": [
    "# Visualizando o dataframe:\n",
    "df.head()"
   ]
  },
  {
   "cell_type": "code",
   "execution_count": 4,
   "metadata": {},
   "outputs": [
    {
     "output_type": "stream",
     "name": "stdout",
     "text": "<class 'pandas.core.frame.DataFrame'>\nRangeIndex: 7000 entries, 0 to 6999\nData columns (total 12 columns):\n #   Column                    Non-Null Count  Dtype  \n---  ------                    --------------  -----  \n 0   RowNumber                 7000 non-null   int64  \n 1   id                        7000 non-null   object \n 2   sobrenome                 7000 non-null   object \n 3   pontuacao_credito         7000 non-null   int64  \n 4   estado_residencia         7000 non-null   object \n 5   genero                    7000 non-null   object \n 6   idade                     7000 non-null   int64  \n 7   nivel_estabilidade        7000 non-null   int64  \n 8   saldo_conta               7000 non-null   float64\n 9   numero_produtos           7000 non-null   int64  \n 10  possui_cartao_de_credito  7000 non-null   int64  \n 11  membro_ativo              7000 non-null   int64  \ndtypes: float64(1), int64(7), object(4)\nmemory usage: 656.4+ KB\n"
    }
   ],
   "source": [
    "# Informações sobre o dataframe:\n",
    "df.info()"
   ]
  },
  {
   "cell_type": "code",
   "execution_count": 5,
   "metadata": {},
   "outputs": [
    {
     "output_type": "execute_result",
     "data": {
      "text/plain": "                           count          mean           std    min      25%  \\\nRowNumber                 7000.0   3500.500000   2020.870275    1.0  1750.75   \npontuacao_credito         7000.0    649.787000     97.046279  350.0   582.00   \nidade                     7000.0     38.892714     10.465562   18.0    32.00   \nnivel_estabilidade        7000.0      5.010286      2.887500    0.0     3.00   \nsaldo_conta               7000.0  76471.883751  62403.383911    0.0     0.00   \nnumero_produtos           7000.0      1.526000      0.583047    1.0     1.00   \npossui_cartao_de_credito  7000.0      0.703286      0.456842    0.0     0.00   \nmembro_ativo              7000.0      0.512143      0.499888    0.0     0.00   \n\n                               50%         75%        max  \nRowNumber                  3500.50    5250.250    7000.00  \npontuacao_credito           651.00     717.000     850.00  \nidade                        37.00      44.000      92.00  \nnivel_estabilidade            5.00       7.250      10.00  \nsaldo_conta               97277.13  127537.155  250898.09  \nnumero_produtos               1.00       2.000       4.00  \npossui_cartao_de_credito      1.00       1.000       1.00  \nmembro_ativo                  1.00       1.000       1.00  ",
      "text/html": "<div>\n<style scoped>\n    .dataframe tbody tr th:only-of-type {\n        vertical-align: middle;\n    }\n\n    .dataframe tbody tr th {\n        vertical-align: top;\n    }\n\n    .dataframe thead th {\n        text-align: right;\n    }\n</style>\n<table border=\"1\" class=\"dataframe\">\n  <thead>\n    <tr style=\"text-align: right;\">\n      <th></th>\n      <th>count</th>\n      <th>mean</th>\n      <th>std</th>\n      <th>min</th>\n      <th>25%</th>\n      <th>50%</th>\n      <th>75%</th>\n      <th>max</th>\n    </tr>\n  </thead>\n  <tbody>\n    <tr>\n      <th>RowNumber</th>\n      <td>7000.0</td>\n      <td>3500.500000</td>\n      <td>2020.870275</td>\n      <td>1.0</td>\n      <td>1750.75</td>\n      <td>3500.50</td>\n      <td>5250.250</td>\n      <td>7000.00</td>\n    </tr>\n    <tr>\n      <th>pontuacao_credito</th>\n      <td>7000.0</td>\n      <td>649.787000</td>\n      <td>97.046279</td>\n      <td>350.0</td>\n      <td>582.00</td>\n      <td>651.00</td>\n      <td>717.000</td>\n      <td>850.00</td>\n    </tr>\n    <tr>\n      <th>idade</th>\n      <td>7000.0</td>\n      <td>38.892714</td>\n      <td>10.465562</td>\n      <td>18.0</td>\n      <td>32.00</td>\n      <td>37.00</td>\n      <td>44.000</td>\n      <td>92.00</td>\n    </tr>\n    <tr>\n      <th>nivel_estabilidade</th>\n      <td>7000.0</td>\n      <td>5.010286</td>\n      <td>2.887500</td>\n      <td>0.0</td>\n      <td>3.00</td>\n      <td>5.00</td>\n      <td>7.250</td>\n      <td>10.00</td>\n    </tr>\n    <tr>\n      <th>saldo_conta</th>\n      <td>7000.0</td>\n      <td>76471.883751</td>\n      <td>62403.383911</td>\n      <td>0.0</td>\n      <td>0.00</td>\n      <td>97277.13</td>\n      <td>127537.155</td>\n      <td>250898.09</td>\n    </tr>\n    <tr>\n      <th>numero_produtos</th>\n      <td>7000.0</td>\n      <td>1.526000</td>\n      <td>0.583047</td>\n      <td>1.0</td>\n      <td>1.00</td>\n      <td>1.00</td>\n      <td>2.000</td>\n      <td>4.00</td>\n    </tr>\n    <tr>\n      <th>possui_cartao_de_credito</th>\n      <td>7000.0</td>\n      <td>0.703286</td>\n      <td>0.456842</td>\n      <td>0.0</td>\n      <td>0.00</td>\n      <td>1.00</td>\n      <td>1.000</td>\n      <td>1.00</td>\n    </tr>\n    <tr>\n      <th>membro_ativo</th>\n      <td>7000.0</td>\n      <td>0.512143</td>\n      <td>0.499888</td>\n      <td>0.0</td>\n      <td>0.00</td>\n      <td>1.00</td>\n      <td>1.000</td>\n      <td>1.00</td>\n    </tr>\n  </tbody>\n</table>\n</div>"
     },
     "metadata": {},
     "execution_count": 5
    }
   ],
   "source": [
    "# Estatística descritiva:\n",
    "df.describe().T"
   ]
  },
  {
   "cell_type": "markdown",
   "metadata": {},
   "source": [
    "# Objetivo do desafio\n",
    "\n",
    "Queremos conhecer melhor nossos clientes por estado. Para isso, iniciamos uma análise na pontuação de crédito. \n",
    "Para realizar a verificação inicial, precisamos de alguns valores.\n",
    "Os valores são a média, a mediana, a moda e o desvio padrão da pontuação de crédito."
   ]
  },
  {
   "cell_type": "code",
   "execution_count": 6,
   "metadata": {},
   "outputs": [],
   "source": [
    "# Função para pegar os valores:\n",
    "def get_stats(df):\n",
    "    return {'moda': df.mode()[0], 'mediana': df.median(), 'media': df.mean(), 'desvio_padrao': df.std()}"
   ]
  },
  {
   "cell_type": "code",
   "execution_count": 7,
   "metadata": {},
   "outputs": [],
   "source": [
    "# Agrupando a pontuação de cŕedito por Estado:\n",
    "df_group = df['pontuacao_credito'].groupby(df['estado_residencia']).apply(get_stats).unstack()"
   ]
  },
  {
   "cell_type": "code",
   "execution_count": 8,
   "metadata": {},
   "outputs": [
    {
     "output_type": "execute_result",
     "data": {
      "text/plain": "                    moda  mediana       media  desvio_padrao\nestado_residencia                                           \nPR                 850.0    650.0  648.961294      98.607186\nRS                 850.0    650.0  651.105143      95.136598\nSC                 850.0    653.0  649.537653      97.233493",
      "text/html": "<div>\n<style scoped>\n    .dataframe tbody tr th:only-of-type {\n        vertical-align: middle;\n    }\n\n    .dataframe tbody tr th {\n        vertical-align: top;\n    }\n\n    .dataframe thead th {\n        text-align: right;\n    }\n</style>\n<table border=\"1\" class=\"dataframe\">\n  <thead>\n    <tr style=\"text-align: right;\">\n      <th></th>\n      <th>moda</th>\n      <th>mediana</th>\n      <th>media</th>\n      <th>desvio_padrao</th>\n    </tr>\n    <tr>\n      <th>estado_residencia</th>\n      <th></th>\n      <th></th>\n      <th></th>\n      <th></th>\n    </tr>\n  </thead>\n  <tbody>\n    <tr>\n      <th>PR</th>\n      <td>850.0</td>\n      <td>650.0</td>\n      <td>648.961294</td>\n      <td>98.607186</td>\n    </tr>\n    <tr>\n      <th>RS</th>\n      <td>850.0</td>\n      <td>650.0</td>\n      <td>651.105143</td>\n      <td>95.136598</td>\n    </tr>\n    <tr>\n      <th>SC</th>\n      <td>850.0</td>\n      <td>653.0</td>\n      <td>649.537653</td>\n      <td>97.233493</td>\n    </tr>\n  </tbody>\n</table>\n</div>"
     },
     "metadata": {},
     "execution_count": 8
    }
   ],
   "source": [
    "df_group"
   ]
  },
  {
   "cell_type": "code",
   "execution_count": 9,
   "metadata": {},
   "outputs": [],
   "source": [
    "# Criando o arquivo de resposta:\n",
    "df_group.to_json('submission.json', orient='index')"
   ]
  }
 ],
 "metadata": {
  "language_info": {
   "codemirror_mode": {
    "name": "ipython",
    "version": 3
   },
   "file_extension": ".py",
   "mimetype": "text/x-python",
   "name": "python",
   "nbconvert_exporter": "python",
   "pygments_lexer": "ipython3",
   "version": "3.6.10-final"
  },
  "orig_nbformat": 2,
  "kernelspec": {
   "name": "python361064bitcodecondae281c7baf1844db49d28f395a9925f35",
   "display_name": "Python 3.6.10 64-bit ('code': conda)"
  }
 },
 "nbformat": 4,
 "nbformat_minor": 2
}